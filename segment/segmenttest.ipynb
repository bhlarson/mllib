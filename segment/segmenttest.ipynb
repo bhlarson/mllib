{
 "cells": [
  {
   "cell_type": "code",
   "execution_count": 1,
   "metadata": {
    "tags": []
   },
   "outputs": [],
   "source": [
    "import sys, os\n",
    "import json\n",
    "import argparse\n",
    "import pandas as pd\n",
    "import numpy as np\n",
    "from IPython.display import Markdown, display\n",
    "import ipywidgets as widgets\n",
    "import plotly\n",
    "import plotly.graph_objects as graph_obj\n",
    "import plotly.figure_factory as ff\n",
    "\n",
    "sys.path.insert(0, os.path.abspath('..'))\n",
    "from utils.s3 import s3store, Connect\n",
    "from utils.jsonutil import WriteDictJson, ReadDictJson\n",
    "from segment.segmenttest import PrepareResults, PlotConfusion"
   ]
  },
  {
   "cell_type": "code",
   "execution_count": 2,
   "metadata": {},
   "outputs": [],
   "source": [
    "output = widgets.Output()"
   ]
  },
  {
   "cell_type": "code",
   "execution_count": 3,
   "metadata": {},
   "outputs": [],
   "source": [
    "def parse_arguments():\n",
    "    parser = argparse.ArgumentParser(description='Process arguments')\n",
    "    parser.add_argument('-credentails', type=str, default='../creds.json', help='Credentials file.')\n",
    "\n",
    "    parser.add_argument('-model_type', type=str,  default='segmentation')\n",
    "    parser.add_argument('-test_results', type=str, default='test_results.json')   \n",
    "\n",
    "    args = parser.parse_args(\"\")\n",
    "    return args"
   ]
  },
  {
   "cell_type": "code",
   "execution_count": 4,
   "metadata": {},
   "outputs": [],
   "source": [
    "with output:\n",
    "    args = parse_arguments()\n",
    "    print('parse_arguments()={}'.format(args))"
   ]
  },
  {
   "cell_type": "code",
   "execution_count": 5,
   "metadata": {},
   "outputs": [],
   "source": [
    "with output:\n",
    "    s3, creds, s3def = Connect(args.credentails)\n",
    "    print('Connect()={}'.format(s3def))"
   ]
  },
  {
   "cell_type": "code",
   "execution_count": 6,
   "metadata": {},
   "outputs": [],
   "source": [
    "with output:\n",
    "    test_path = '{}/{}/{}'.format(s3def['sets']['test']['prefix'], args.model_type, args.test_results)\n",
    "    test_data = s3.GetDict(s3def['sets']['test']['bucket'], test_path)\n",
    "    print('test_data()={}'.format(test_data))"
   ]
  },
  {
   "cell_type": "code",
   "execution_count": 7,
   "metadata": {},
   "outputs": [
    {
     "data": {
      "text/html": [
       "<div>\n",
       "<style scoped>\n",
       "    .dataframe tbody tr th:only-of-type {\n",
       "        vertical-align: middle;\n",
       "    }\n",
       "\n",
       "    .dataframe tbody tr th {\n",
       "        vertical-align: top;\n",
       "    }\n",
       "\n",
       "    .dataframe thead th {\n",
       "        text-align: right;\n",
       "    }\n",
       "</style>\n",
       "<table border=\"1\" class=\"dataframe\">\n",
       "  <thead>\n",
       "    <tr style=\"text-align: right;\">\n",
       "      <th></th>\n",
       "      <th>test date</th>\n",
       "      <th>test images</th>\n",
       "      <th>mean IoU</th>\n",
       "      <th>inference time</th>\n",
       "    </tr>\n",
       "  </thead>\n",
       "  <tbody>\n",
       "    <tr>\n",
       "      <th>1: segment_deeplabv3_512x442_20211030_01</th>\n",
       "      <td>11/12/2021, 08:45:16</td>\n",
       "      <td>5000</td>\n",
       "      <td>0.709993</td>\n",
       "      <td>0.006181</td>\n",
       "    </tr>\n",
       "    <tr>\n",
       "      <th>2: segment_deeplabv3_512x442_20211107_00</th>\n",
       "      <td>11/12/2021, 08:55:08</td>\n",
       "      <td>5000</td>\n",
       "      <td>0.790635</td>\n",
       "      <td>0.006192</td>\n",
       "    </tr>\n",
       "    <tr>\n",
       "      <th>3: segment_deeplabv3_512x442_20211101_00</th>\n",
       "      <td>11/12/2021, 09:05:46</td>\n",
       "      <td>5000</td>\n",
       "      <td>0.782202</td>\n",
       "      <td>0.006293</td>\n",
       "    </tr>\n",
       "    <tr>\n",
       "      <th>4: segment_deeplabv3_512x442_20211112_00</th>\n",
       "      <td>11/13/2021, 06:14:40</td>\n",
       "      <td>5000</td>\n",
       "      <td>0.803974</td>\n",
       "      <td>0.006058</td>\n",
       "    </tr>\n",
       "    <tr>\n",
       "      <th>5: segment_deeplabv3_512x442_20211112_00</th>\n",
       "      <td>11/14/2021, 06:50:10</td>\n",
       "      <td>5000</td>\n",
       "      <td>0.809978</td>\n",
       "      <td>0.005556</td>\n",
       "    </tr>\n",
       "    <tr>\n",
       "      <th>6: segment_deeplabv3_512x442_20211112_00</th>\n",
       "      <td>11/15/2021, 07:02:34</td>\n",
       "      <td>144</td>\n",
       "      <td>0.767238</td>\n",
       "      <td>0.0065</td>\n",
       "    </tr>\n",
       "    <tr>\n",
       "      <th>7: segment_nas_512x442_202111141_01</th>\n",
       "      <td>11/15/2021, 09:05:08</td>\n",
       "      <td>5000</td>\n",
       "      <td>0.73669</td>\n",
       "      <td>0.006011</td>\n",
       "    </tr>\n",
       "    <tr>\n",
       "      <th>8: segment_nas_512x442_20211101_00</th>\n",
       "      <td>11/15/2021, 09:39:23</td>\n",
       "      <td>5000</td>\n",
       "      <td>0.727587</td>\n",
       "      <td>0.00609</td>\n",
       "    </tr>\n",
       "    <tr>\n",
       "      <th>9: segment_nas_512x442_20211029_00</th>\n",
       "      <td>11/15/2021, 09:45:31</td>\n",
       "      <td>5000</td>\n",
       "      <td>0.700374</td>\n",
       "      <td>0.006111</td>\n",
       "    </tr>\n",
       "    <tr>\n",
       "      <th>10: segment_nas_512x442_20211028</th>\n",
       "      <td>11/15/2021, 09:51:34</td>\n",
       "      <td>5000</td>\n",
       "      <td>0.624807</td>\n",
       "      <td>0.006104</td>\n",
       "    </tr>\n",
       "    <tr>\n",
       "      <th>11: segment_nas_512x442_20211027</th>\n",
       "      <td>11/15/2021, 09:57:31</td>\n",
       "      <td>5000</td>\n",
       "      <td>0.642864</td>\n",
       "      <td>0.006028</td>\n",
       "    </tr>\n",
       "  </tbody>\n",
       "</table>\n",
       "</div>"
      ],
      "text/plain": [
       "                                                     test date test images  \\\n",
       "1: segment_deeplabv3_512x442_20211030_01  11/12/2021, 08:45:16        5000   \n",
       "2: segment_deeplabv3_512x442_20211107_00  11/12/2021, 08:55:08        5000   \n",
       "3: segment_deeplabv3_512x442_20211101_00  11/12/2021, 09:05:46        5000   \n",
       "4: segment_deeplabv3_512x442_20211112_00  11/13/2021, 06:14:40        5000   \n",
       "5: segment_deeplabv3_512x442_20211112_00  11/14/2021, 06:50:10        5000   \n",
       "6: segment_deeplabv3_512x442_20211112_00  11/15/2021, 07:02:34         144   \n",
       "7: segment_nas_512x442_202111141_01       11/15/2021, 09:05:08        5000   \n",
       "8: segment_nas_512x442_20211101_00        11/15/2021, 09:39:23        5000   \n",
       "9: segment_nas_512x442_20211029_00        11/15/2021, 09:45:31        5000   \n",
       "10: segment_nas_512x442_20211028          11/15/2021, 09:51:34        5000   \n",
       "11: segment_nas_512x442_20211027          11/15/2021, 09:57:31        5000   \n",
       "\n",
       "                                          mean IoU inference time  \n",
       "1: segment_deeplabv3_512x442_20211030_01  0.709993       0.006181  \n",
       "2: segment_deeplabv3_512x442_20211107_00  0.790635       0.006192  \n",
       "3: segment_deeplabv3_512x442_20211101_00  0.782202       0.006293  \n",
       "4: segment_deeplabv3_512x442_20211112_00  0.803974       0.006058  \n",
       "5: segment_deeplabv3_512x442_20211112_00  0.809978       0.005556  \n",
       "6: segment_deeplabv3_512x442_20211112_00  0.767238         0.0065  \n",
       "7: segment_nas_512x442_202111141_01        0.73669       0.006011  \n",
       "8: segment_nas_512x442_20211101_00        0.727587        0.00609  \n",
       "9: segment_nas_512x442_20211029_00        0.700374       0.006111  \n",
       "10: segment_nas_512x442_20211028          0.624807       0.006104  \n",
       "11: segment_nas_512x442_20211027          0.642864       0.006028  "
      ]
     },
     "metadata": {},
     "output_type": "display_data"
    }
   ],
   "source": [
    "test_names, overview, results  = PrepareResults(test_data)\n",
    "display(pd.DataFrame(overview).T)"
   ]
  },
  {
   "cell_type": "code",
   "execution_count": 8,
   "metadata": {},
   "outputs": [],
   "source": [
    "confusion_display = graph_obj.FigureWidget()\n",
    "if len(test_data) > 0:\n",
    "    plot = PlotConfusion(test_data[0]['objects'], test_data[0]['results']['confusion'])\n",
    "    confusion_display = graph_obj.FigureWidget(plot)"
   ]
  },
  {
   "cell_type": "code",
   "execution_count": 9,
   "metadata": {},
   "outputs": [],
   "source": [
    "def SelectTest(change, output, confusion, results):\n",
    "    with output:\n",
    "        print('SelectTest() change={}'.format(change))\n",
    "        with confusion.batch_update():\n",
    "            \n",
    "            c = np.array(results[change.new]['confusion'])\n",
    "            norm_confusion = (c.T / c.astype(np.float).sum(axis=1)).T\n",
    "            confusion_text = [str(round(x, 3)) for x in norm_confusion.flatten()]\n",
    "            confusion.data[0].z =  norm_confusion\n",
    "            confusion.update_layout(yaxis_autorange=\"reversed\")\n",
    "            \n",
    "            for i in range(len(confusion_text)):\n",
    "                confusion.layout.annotations[i].text = confusion_text[i]\n",
    "                \n",
    "test_select = widgets.Select(\n",
    "    options=test_names,\n",
    "    description='Test:',\n",
    "    disabled=False,\n",
    "    #rows=25,\n",
    ")"
   ]
  },
  {
   "cell_type": "code",
   "execution_count": 10,
   "metadata": {},
   "outputs": [],
   "source": [
    "def ClearOutput(b, output):\n",
    "    print('In ClarOutput')\n",
    "    output.clear_output()\n",
    "    \n",
    "clear_output = widgets.Button(description='Clear Output')\n"
   ]
  },
  {
   "cell_type": "code",
   "execution_count": 11,
   "metadata": {},
   "outputs": [
    {
     "data": {
      "application/vnd.jupyter.widget-view+json": {
       "model_id": "3e1c4a3d0bc24b29bafb6b8e32905642",
       "version_major": 2,
       "version_minor": 0
      },
      "text/plain": [
       "VBox(children=(HBox(children=(Select(description='Test:', options=('1: segment_deeplabv3_512x442_20211030_01',…"
      ]
     },
     "metadata": {},
     "output_type": "display_data"
    }
   ],
   "source": [
    "display_results = widgets.HBox([test_select, confusion_display])\n",
    "segment_interactive = widgets.VBox([display_results, clear_output, output])\n",
    "\n",
    "display(segment_interactive)\n",
    "\n",
    "clear_output.on_click(lambda b: ClearOutput(b, output=output))\n",
    "test_select.observe (lambda change:SelectTest(change, \n",
    "                                            output=output, \n",
    "                                            confusion=confusion_display, \n",
    "                                            results=results), \n",
    "                    names=\"value\")\n",
    "\n",
    "if len(test_names) > 0:\n",
    "    test_select.options = test_names\n",
    "    test_select.value = test_names[0]"
   ]
  },
  {
   "cell_type": "code",
   "execution_count": null,
   "metadata": {},
   "outputs": [],
   "source": []
  }
 ],
 "metadata": {
  "interpreter": {
   "hash": "31f2aee4e71d21fbe5cf8b01ff0e069b9275f58929596ceb00d14d90e3e16cd6"
  },
  "kernelspec": {
   "display_name": "Python 3 (ipykernel)",
   "language": "python",
   "name": "python3"
  },
  "language_info": {
   "codemirror_mode": {
    "name": "ipython",
    "version": 3
   },
   "file_extension": ".py",
   "mimetype": "text/x-python",
   "name": "python",
   "nbconvert_exporter": "python",
   "pygments_lexer": "ipython3",
   "version": "3.8.10"
  }
 },
 "nbformat": 4,
 "nbformat_minor": 4
}
