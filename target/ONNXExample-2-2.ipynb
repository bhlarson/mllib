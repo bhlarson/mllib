{
 "cells": [
  {
   "cell_type": "code",
   "execution_count": 1,
   "metadata": {
    "colab": {
     "base_uri": "https://localhost:8080/",
     "height": 377
    },
    "id": "IJBfZsGo8yaV",
    "outputId": "f4c4e20d-fcfd-43a2-b10d-c6978c25c91f"
   },
   "outputs": [
    {
     "name": "stdout",
     "output_type": "stream",
     "text": [
      "Mon Sep 28 23:39:25 2020       \n",
      "+-----------------------------------------------------------------------------+\n",
      "| NVIDIA-SMI 418.126.02   Driver Version: 418.126.02   CUDA Version: 11.0     |\n",
      "|-------------------------------+----------------------+----------------------+\n",
      "| GPU  Name        Persistence-M| Bus-Id        Disp.A | Volatile Uncorr. ECC |\n",
      "| Fan  Temp  Perf  Pwr:Usage/Cap|         Memory-Usage | GPU-Util  Compute M. |\n",
      "|===============================+======================+======================|\n",
      "|   0  Tesla V100-DGXS...  On   | 00000000:07:00.0  On |                    0 |\n",
      "| N/A   40C    P0    37W / 300W |    198MiB / 16125MiB |      0%      Default |\n",
      "+-------------------------------+----------------------+----------------------+\n",
      "|   1  Tesla V100-DGXS...  On   | 00000000:08:00.0 Off |                    0 |\n",
      "| N/A   41C    P0    38W / 300W |      0MiB / 16128MiB |      0%      Default |\n",
      "+-------------------------------+----------------------+----------------------+\n",
      "|   2  Tesla V100-DGXS...  On   | 00000000:0E:00.0 Off |                    0 |\n",
      "| N/A   40C    P0    38W / 300W |      0MiB / 16128MiB |      0%      Default |\n",
      "+-------------------------------+----------------------+----------------------+\n",
      "|   3  Tesla V100-DGXS...  On   | 00000000:0F:00.0 Off |                    0 |\n",
      "| N/A   41C    P0    36W / 300W |      0MiB / 16128MiB |      0%      Default |\n",
      "+-------------------------------+----------------------+----------------------+\n",
      "                                                                               \n",
      "+-----------------------------------------------------------------------------+\n",
      "| Processes:                                                       GPU Memory |\n",
      "|  GPU       PID   Type   Process name                             Usage      |\n",
      "|=============================================================================|\n",
      "+-----------------------------------------------------------------------------+\n"
     ]
    }
   ],
   "source": [
    "!nvidia-smi"
   ]
  },
  {
   "cell_type": "code",
   "execution_count": 2,
   "metadata": {
    "colab": {
     "base_uri": "https://localhost:8080/",
     "height": 870
    },
    "id": "W6Z3rQm88quL",
    "outputId": "1717ac75-22e7-48ed-ab54-d7239a90aefc"
   },
   "outputs": [
    {
     "name": "stdout",
     "output_type": "stream",
     "text": [
      "Collecting keras2onnx\n",
      "  Downloading keras2onnx-1.7.0-py3-none-any.whl (96 kB)\n",
      "\u001b[K     |################################| 96 kB 4.8 MB/s eta 0:00:011\n",
      "\u001b[?25hRequirement already satisfied: pycuda in /usr/local/lib/python3.6/dist-packages (2019.1.2)\n",
      "Requirement already satisfied: requests in /usr/local/lib/python3.6/dist-packages (from keras2onnx) (2.24.0)\n",
      "Collecting fire\n",
      "  Downloading fire-0.3.1.tar.gz (81 kB)\n",
      "\u001b[K     |################################| 81 kB 15.5 MB/s eta 0:00:01\n",
      "\u001b[?25hRequirement already satisfied: protobuf in /usr/local/lib/python3.6/dist-packages (from keras2onnx) (3.13.0)\n",
      "Collecting onnxconverter-common>=1.7.0\n",
      "  Downloading onnxconverter_common-1.7.0-py2.py3-none-any.whl (64 kB)\n",
      "\u001b[K     |################################| 64 kB 6.4 MB/s  eta 0:00:01\n",
      "\u001b[?25hCollecting onnx\n",
      "  Downloading onnx-1.7.0-cp36-cp36m-manylinux1_x86_64.whl (7.4 MB)\n",
      "\u001b[K     |################################| 7.4 MB 8.7 MB/s eta 0:00:01\n",
      "\u001b[?25hRequirement already satisfied: numpy in /usr/local/lib/python3.6/dist-packages (from keras2onnx) (1.18.5)\n",
      "Requirement already satisfied: decorator>=3.2.0 in /usr/local/lib/python3.6/dist-packages (from pycuda) (4.4.2)\n",
      "Requirement already satisfied: mako in /usr/local/lib/python3.6/dist-packages (from pycuda) (1.1.3)\n",
      "Requirement already satisfied: appdirs>=1.4.0 in /usr/local/lib/python3.6/dist-packages (from pycuda) (1.4.4)\n",
      "Requirement already satisfied: pytools>=2011.2 in /usr/local/lib/python3.6/dist-packages (from pycuda) (2020.3.1)\n",
      "Requirement already satisfied: chardet<4,>=3.0.2 in /usr/local/lib/python3.6/dist-packages (from requests->keras2onnx) (3.0.4)\n",
      "Requirement already satisfied: urllib3!=1.25.0,!=1.25.1,<1.26,>=1.21.1 in /usr/local/lib/python3.6/dist-packages (from requests->keras2onnx) (1.25.10)\n",
      "Requirement already satisfied: idna<3,>=2.5 in /usr/local/lib/python3.6/dist-packages (from requests->keras2onnx) (2.10)\n",
      "Requirement already satisfied: certifi>=2017.4.17 in /usr/local/lib/python3.6/dist-packages (from requests->keras2onnx) (2020.6.20)\n",
      "Requirement already satisfied: six in /usr/local/lib/python3.6/dist-packages (from fire->keras2onnx) (1.15.0)\n",
      "Requirement already satisfied: termcolor in /usr/local/lib/python3.6/dist-packages (from fire->keras2onnx) (1.1.0)\n",
      "Requirement already satisfied: setuptools in /usr/local/lib/python3.6/dist-packages (from protobuf->keras2onnx) (49.2.1)\n",
      "Requirement already satisfied: typing-extensions>=3.6.2.1 in /usr/local/lib/python3.6/dist-packages (from onnx->keras2onnx) (3.7.4.3)\n",
      "Requirement already satisfied: MarkupSafe>=0.9.2 in /usr/local/lib/python3.6/dist-packages (from mako->pycuda) (1.1.1)\n",
      "Building wheels for collected packages: fire\n",
      "  Building wheel for fire (setup.py) ... \u001b[?25ldone\n",
      "\u001b[?25h  Created wheel for fire: filename=fire-0.3.1-py2.py3-none-any.whl size=111005 sha256=11f8b16663771436409d380f2bb05e9a835a3e5d60b371036882be0a21aabcdf\n",
      "  Stored in directory: /root/.cache/pip/wheels/3e/38/8f/e5bd4465e4b72c8e4d1530ac46e1a42e1d2495f8c93242d5f1\n",
      "Successfully built fire\n",
      "Installing collected packages: fire, onnx, onnxconverter-common, keras2onnx\n",
      "Successfully installed fire-0.3.1 keras2onnx-1.7.0 onnx-1.7.0 onnxconverter-common-1.7.0\n",
      "\u001b[33mWARNING: You are using pip version 20.2.1; however, version 20.2.3 is available.\n",
      "You should consider upgrading via the '/usr/bin/python -m pip install --upgrade pip' command.\u001b[0m\n"
     ]
    }
   ],
   "source": [
    "!pip install keras2onnx pycuda"
   ]
  },
  {
   "cell_type": "code",
   "execution_count": 3,
   "metadata": {
    "id": "iVRVItvR8quS"
   },
   "outputs": [],
   "source": [
    "from tensorflow.keras.applications import ResNet50"
   ]
  },
  {
   "cell_type": "code",
   "execution_count": 4,
   "metadata": {
    "id": "cKT07xPV8qua"
   },
   "outputs": [
    {
     "name": "stdout",
     "output_type": "stream",
     "text": [
      "Downloading data from https://storage.googleapis.com/tensorflow/keras-applications/resnet/resnet50_weights_tf_dim_ordering_tf_kernels.h5\n",
      "102973440/102967424 [==============================] - 5s 0us/step\n"
     ]
    }
   ],
   "source": [
    "model = ResNet50(weights='imagenet')"
   ]
  },
  {
   "cell_type": "code",
   "execution_count": 5,
   "metadata": {
    "colab": {
     "base_uri": "https://localhost:8080/",
     "height": 238
    },
    "id": "8ETjzebW8qu2",
    "outputId": "03a8e7c1-215c-404a-8cac-8030132657dd"
   },
   "outputs": [
    {
     "data": {
      "text/plain": [
       "array([[1.69642444e-04, 3.30074545e-04, 6.13502853e-05, ...,\n",
       "        1.46223765e-05, 1.44498641e-04, 6.60868129e-04],\n",
       "       [1.69642444e-04, 3.30074545e-04, 6.13502853e-05, ...,\n",
       "        1.46223765e-05, 1.44498641e-04, 6.60868129e-04],\n",
       "       [1.69642444e-04, 3.30074545e-04, 6.13502853e-05, ...,\n",
       "        1.46223765e-05, 1.44498641e-04, 6.60868129e-04],\n",
       "       ...,\n",
       "       [1.69642444e-04, 3.30074545e-04, 6.13502853e-05, ...,\n",
       "        1.46223765e-05, 1.44498641e-04, 6.60868129e-04],\n",
       "       [1.69642532e-04, 3.30074574e-04, 6.13503144e-05, ...,\n",
       "        1.46223847e-05, 1.44498656e-04, 6.60868187e-04],\n",
       "       [1.69642444e-04, 3.30074545e-04, 6.13503144e-05, ...,\n",
       "        1.46223920e-05, 1.44498728e-04, 6.60868129e-04]], dtype=float32)"
      ]
     },
     "execution_count": 5,
     "metadata": {},
     "output_type": "execute_result"
    }
   ],
   "source": [
    "import numpy as np\n",
    "\n",
    "dummy_input_batch = np.zeros((32, 224, 224, 3))\n",
    "\n",
    "model.predict(dummy_input_batch) # warm up"
   ]
  },
  {
   "cell_type": "code",
   "execution_count": 6,
   "metadata": {
    "colab": {
     "base_uri": "https://localhost:8080/",
     "height": 85
    },
    "id": "eMu3dZlM96bh",
    "outputId": "537a88e2-ad7d-413a-f815-abd91f010e21"
   },
   "outputs": [
    {
     "name": "stdout",
     "output_type": "stream",
     "text": [
      "Warming up...\n",
      "Done warming up!\n",
      "CPU times: user 11.4 s, sys: 1.05 s, total: 12.4 s\n",
      "Wall time: 432 ms\n"
     ]
    }
   ],
   "source": [
    "%%time\n",
    "\n",
    "print(\"Warming up...\")\n",
    "\n",
    "model.predict(dummy_input_batch) # Check default performance\n",
    "\n",
    "print(\"Done warming up!\")"
   ]
  },
  {
   "cell_type": "code",
   "execution_count": 7,
   "metadata": {
    "id": "aG3tXUEx8quf"
   },
   "outputs": [],
   "source": [
    "import onnx, keras2onnx"
   ]
  },
  {
   "cell_type": "code",
   "execution_count": 8,
   "metadata": {
    "colab": {
     "base_uri": "https://localhost:8080/",
     "height": 68
    },
    "id": "QxLAvWp68quk",
    "outputId": "d750962a-d098-4a63-c195-c3442211cdc1"
   },
   "outputs": [
    {
     "name": "stderr",
     "output_type": "stream",
     "text": [
      "tf executing eager_mode: True\n",
      "tf.keras model eager_mode: False\n",
      "The ONNX operator number change on the optimization: 458 -> 127\n"
     ]
    }
   ],
   "source": [
    "onnx_model = keras2onnx.convert_keras(model, model.name)"
   ]
  },
  {
   "cell_type": "code",
   "execution_count": 9,
   "metadata": {
    "id": "jFT6-13f8qup"
   },
   "outputs": [],
   "source": [
    "model_name = \"resnet50_onnx_model.onnx\"\n",
    "onnx.save_model(onnx_model, model_name)"
   ]
  },
  {
   "cell_type": "code",
   "execution_count": null,
   "metadata": {
    "id": "uZUnHVHE8quu"
   },
   "outputs": [],
   "source": [
    "import os\n",
    "\n",
    "os._exit(0) # Shut down all kernels so TRT doesn't fight with Tensorflow for GPU memory - TF monopolizes all GPU memory by default"
   ]
  },
  {
   "cell_type": "code",
   "execution_count": 1,
   "metadata": {
    "colab": {
     "base_uri": "https://localhost:8080/",
     "height": 34
    },
    "id": "h60Gmotx8quz",
    "outputId": "065384aa-c848-4194-c72c-cad0d80449ca"
   },
   "outputs": [
    {
     "name": "stdout",
     "output_type": "stream",
     "text": [
      "&&&& RUNNING TensorRT.trtexec # trtexec --onnx=resnet50_onnx_model.onnx --batch=1 --saveEngine=resnet_engine.trt --explicitBatch\n",
      "[09/28/2020-23:40:28] [I] === Model Options ===\n",
      "[09/28/2020-23:40:28] [I] Format: ONNX\n",
      "[09/28/2020-23:40:28] [I] Model: resnet50_onnx_model.onnx\n",
      "[09/28/2020-23:40:28] [I] Output:\n",
      "[09/28/2020-23:40:28] [I] === Build Options ===\n",
      "[09/28/2020-23:40:28] [I] Max batch: explicit\n",
      "[09/28/2020-23:40:28] [I] Workspace: 16 MB\n",
      "[09/28/2020-23:40:28] [I] minTiming: 1\n",
      "[09/28/2020-23:40:28] [I] avgTiming: 8\n",
      "[09/28/2020-23:40:28] [I] Precision: FP32\n",
      "[09/28/2020-23:40:28] [I] Calibration: \n",
      "[09/28/2020-23:40:28] [I] Safe mode: Disabled\n",
      "[09/28/2020-23:40:28] [I] Save engine: resnet_engine.trt\n",
      "[09/28/2020-23:40:28] [I] Load engine: \n",
      "[09/28/2020-23:40:28] [I] Builder Cache: Enabled\n",
      "[09/28/2020-23:40:28] [I] NVTX verbosity: 0\n",
      "[09/28/2020-23:40:28] [I] Inputs format: fp32:CHW\n",
      "[09/28/2020-23:40:28] [I] Outputs format: fp32:CHW\n",
      "[09/28/2020-23:40:28] [I] Input build shapes: model\n",
      "[09/28/2020-23:40:28] [I] Input calibration shapes: model\n",
      "[09/28/2020-23:40:28] [I] === System Options ===\n",
      "[09/28/2020-23:40:28] [I] Device: 0\n",
      "[09/28/2020-23:40:28] [I] DLACore: \n",
      "[09/28/2020-23:40:28] [I] Plugins:\n",
      "[09/28/2020-23:40:28] [I] === Inference Options ===\n",
      "[09/28/2020-23:40:28] [I] Batch: Explicit\n",
      "[09/28/2020-23:40:28] [I] Input inference shapes: model\n",
      "[09/28/2020-23:40:28] [I] Iterations: 10\n",
      "[09/28/2020-23:40:28] [I] Duration: 3s (+ 200ms warm up)\n",
      "[09/28/2020-23:40:28] [I] Sleep time: 0ms\n",
      "[09/28/2020-23:40:28] [I] Streams: 1\n",
      "[09/28/2020-23:40:28] [I] ExposeDMA: Disabled\n",
      "[09/28/2020-23:40:28] [I] Spin-wait: Disabled\n",
      "[09/28/2020-23:40:28] [I] Multithreading: Disabled\n",
      "[09/28/2020-23:40:28] [I] CUDA Graph: Disabled\n",
      "[09/28/2020-23:40:28] [I] Skip inference: Disabled\n",
      "[09/28/2020-23:40:28] [I] Inputs:\n",
      "[09/28/2020-23:40:28] [I] === Reporting Options ===\n",
      "[09/28/2020-23:40:28] [I] Verbose: Disabled\n",
      "[09/28/2020-23:40:28] [I] Averages: 10 inferences\n",
      "[09/28/2020-23:40:28] [I] Percentile: 99\n",
      "[09/28/2020-23:40:28] [I] Dump output: Disabled\n",
      "[09/28/2020-23:40:28] [I] Profile: Disabled\n",
      "[09/28/2020-23:40:28] [I] Export timing to JSON file: \n",
      "[09/28/2020-23:40:28] [I] Export output to JSON file: \n",
      "[09/28/2020-23:40:28] [I] Export profile to JSON file: \n",
      "[09/28/2020-23:40:28] [I] \n",
      "----------------------------------------------------------------\n",
      "Input filename:   resnet50_onnx_model.onnx\n",
      "ONNX IR version:  0.0.7\n",
      "Opset version:    12\n",
      "Producer name:    keras2onnx\n",
      "Producer version: 1.7.0\n",
      "Domain:           onnxmltools\n",
      "Model version:    0\n",
      "Doc string:       \n",
      "----------------------------------------------------------------\n",
      "[09/28/2020-23:40:46] [W] [TRT] /home/jenkins/workspace/OSS/L0_MergeRequest/oss/parsers/onnx/onnx2trt_utils.cpp:220: Your ONNX model has been generated with INT64 weights, while TensorRT does not natively support INT64. Attempting to cast down to INT32.\n",
      "[09/28/2020-23:40:46] [W] Dynamic dimensions required for input: input_1, but no shapes were provided. Automatically overriding shape to: 1x224x224x3\n",
      "[09/28/2020-23:40:51] [I] [TRT] Some tactics do not have sufficient workspace memory to run. Increasing workspace size may increase performance, please check verbose output.\n",
      "[09/28/2020-23:41:08] [I] [TRT] Detected 1 inputs and 1 output network tensors.\n",
      "[09/28/2020-23:41:09] [I] Starting inference threads\n",
      "[09/28/2020-23:41:12] [I] Warmup completed 0 queries over 200 ms\n",
      "[09/28/2020-23:41:12] [I] Timing trace has 0 queries over 3.006 s\n",
      "[09/28/2020-23:41:12] [I] Trace averages of 10 runs:\n",
      "[09/28/2020-23:41:12] [I] Average on 10 runs - GPU latency: 2.05554 ms - Host latency: 2.12036 ms (end to end 4.03732 ms, enqueue 0.933049 ms)\n",
      "[09/28/2020-23:41:12] [I] Average on 10 runs - GPU latency: 2.05714 ms - Host latency: 2.12179 ms (end to end 4.0371 ms, enqueue 0.924496 ms)\n",
      "[09/28/2020-23:41:12] [I] Average on 10 runs - GPU latency: 2.04774 ms - Host latency: 2.11265 ms (end to end 4.01572 ms, enqueue 0.899971 ms)\n",
      "[09/28/2020-23:41:12] [I] Average on 10 runs - GPU latency: 2.05007 ms - Host latency: 2.11473 ms (end to end 4.01928 ms, enqueue 0.914432 ms)\n",
      "[09/28/2020-23:41:12] [I] Average on 10 runs - GPU latency: 2.05169 ms - Host latency: 2.11676 ms (end to end 4.02477 ms, enqueue 0.908075 ms)\n",
      "[09/28/2020-23:41:12] [I] Average on 10 runs - GPU latency: 2.05114 ms - Host latency: 2.11553 ms (end to end 4.02387 ms, enqueue 0.908533 ms)\n",
      "[09/28/2020-23:41:12] [I] Average on 10 runs - GPU latency: 2.04932 ms - Host latency: 2.11359 ms (end to end 4.02013 ms, enqueue 0.90079 ms)\n",
      "[09/28/2020-23:41:12] [I] Average on 10 runs - GPU latency: 1.99781 ms - Host latency: 2.06202 ms (end to end 3.48185 ms, enqueue 0.962274 ms)\n",
      "[09/28/2020-23:41:12] [I] Average on 10 runs - GPU latency: 1.9787 ms - Host latency: 2.0438 ms (end to end 3.88516 ms, enqueue 0.874878 ms)\n",
      "[09/28/2020-23:41:12] [I] Average on 10 runs - GPU latency: 1.97842 ms - Host latency: 2.04212 ms (end to end 3.87913 ms, enqueue 0.89628 ms)\n",
      "[09/28/2020-23:41:12] [I] Average on 10 runs - GPU latency: 1.98034 ms - Host latency: 2.04409 ms (end to end 3.8839 ms, enqueue 0.875888 ms)\n",
      "[09/28/2020-23:41:12] [I] Average on 10 runs - GPU latency: 1.97822 ms - Host latency: 2.04158 ms (end to end 3.88079 ms, enqueue 0.873477 ms)\n",
      "[09/28/2020-23:41:12] [I] Average on 10 runs - GPU latency: 1.96948 ms - Host latency: 2.03235 ms (end to end 3.86079 ms, enqueue 0.87392 ms)\n",
      "[09/28/2020-23:41:12] [I] Average on 10 runs - GPU latency: 1.97288 ms - Host latency: 2.03634 ms (end to end 3.87148 ms, enqueue 0.87413 ms)\n",
      "[09/28/2020-23:41:12] [I] Average on 10 runs - GPU latency: 1.97125 ms - Host latency: 2.03461 ms (end to end 3.86764 ms, enqueue 0.873578 ms)\n",
      "[09/28/2020-23:41:12] [I] Average on 10 runs - GPU latency: 1.97292 ms - Host latency: 2.03663 ms (end to end 3.87122 ms, enqueue 0.866714 ms)\n",
      "[09/28/2020-23:41:12] [I] Average on 10 runs - GPU latency: 1.96986 ms - Host latency: 2.03396 ms (end to end 3.86171 ms, enqueue 0.862622 ms)\n",
      "[09/28/2020-23:41:12] [I] Average on 10 runs - GPU latency: 1.96763 ms - Host latency: 2.03167 ms (end to end 3.85847 ms, enqueue 0.884174 ms)\n",
      "[09/28/2020-23:41:12] [I] Average on 10 runs - GPU latency: 1.96807 ms - Host latency: 2.0322 ms (end to end 3.8574 ms, enqueue 0.891229 ms)\n",
      "[09/28/2020-23:41:12] [I] Average on 10 runs - GPU latency: 1.96738 ms - Host latency: 2.03078 ms (end to end 3.85733 ms, enqueue 0.869202 ms)\n",
      "[09/28/2020-23:41:12] [I] Average on 10 runs - GPU latency: 1.96635 ms - Host latency: 2.03015 ms (end to end 3.85554 ms, enqueue 0.888489 ms)\n",
      "[09/28/2020-23:41:12] [I] Average on 10 runs - GPU latency: 1.9666 ms - Host latency: 2.03026 ms (end to end 3.85516 ms, enqueue 0.876569 ms)\n",
      "[09/28/2020-23:41:12] [I] Average on 10 runs - GPU latency: 1.96568 ms - Host latency: 2.02838 ms (end to end 3.85544 ms, enqueue 0.860608 ms)\n",
      "[09/28/2020-23:41:12] [I] Average on 10 runs - GPU latency: 1.96414 ms - Host latency: 2.02789 ms (end to end 3.85259 ms, enqueue 0.855835 ms)\n",
      "[09/28/2020-23:41:12] [I] Average on 10 runs - GPU latency: 1.96329 ms - Host latency: 2.02673 ms (end to end 3.85003 ms, enqueue 0.879742 ms)\n",
      "[09/28/2020-23:41:12] [I] Average on 10 runs - GPU latency: 1.96529 ms - Host latency: 2.02901 ms (end to end 3.85505 ms, enqueue 0.870355 ms)\n",
      "[09/28/2020-23:41:12] [I] Average on 10 runs - GPU latency: 1.964 ms - Host latency: 2.02767 ms (end to end 3.85145 ms, enqueue 0.882489 ms)\n",
      "[09/28/2020-23:41:12] [I] Average on 10 runs - GPU latency: 1.97526 ms - Host latency: 2.03866 ms (end to end 3.43607 ms, enqueue 0.968378 ms)\n",
      "[09/28/2020-23:41:12] [I] Average on 10 runs - GPU latency: 1.97825 ms - Host latency: 2.04213 ms (end to end 3.8907 ms, enqueue 0.82677 ms)\n",
      "[09/28/2020-23:41:12] [I] Average on 10 runs - GPU latency: 1.98146 ms - Host latency: 2.04467 ms (end to end 3.8894 ms, enqueue 0.847882 ms)\n",
      "[09/28/2020-23:41:12] [I] Average on 10 runs - GPU latency: 1.97972 ms - Host latency: 2.04344 ms (end to end 3.88463 ms, enqueue 0.860962 ms)\n",
      "[09/28/2020-23:41:12] [I] Average on 10 runs - GPU latency: 1.98236 ms - Host latency: 2.04667 ms (end to end 3.8868 ms, enqueue 0.880762 ms)\n",
      "[09/28/2020-23:41:12] [I] Average on 10 runs - GPU latency: 1.97036 ms - Host latency: 2.03491 ms (end to end 3.86441 ms, enqueue 0.892499 ms)\n",
      "[09/28/2020-23:41:12] [I] Average on 10 runs - GPU latency: 1.96967 ms - Host latency: 2.0348 ms (end to end 3.86365 ms, enqueue 0.873749 ms)\n",
      "[09/28/2020-23:41:12] [I] Average on 10 runs - GPU latency: 1.97117 ms - Host latency: 2.0364 ms (end to end 3.86785 ms, enqueue 0.865881 ms)\n",
      "[09/28/2020-23:41:12] [I] Average on 10 runs - GPU latency: 1.9728 ms - Host latency: 2.0376 ms (end to end 3.8728 ms, enqueue 0.82135 ms)\n",
      "[09/28/2020-23:41:12] [I] Average on 10 runs - GPU latency: 1.97139 ms - Host latency: 2.03675 ms (end to end 3.86624 ms, enqueue 0.83006 ms)\n",
      "[09/28/2020-23:41:12] [I] Average on 10 runs - GPU latency: 1.96749 ms - Host latency: 2.03247 ms (end to end 3.86298 ms, enqueue 0.80863 ms)\n",
      "[09/28/2020-23:41:12] [I] Average on 10 runs - GPU latency: 1.96849 ms - Host latency: 2.03374 ms (end to end 3.86486 ms, enqueue 0.811713 ms)\n",
      "[09/28/2020-23:41:12] [I] Average on 10 runs - GPU latency: 1.96775 ms - Host latency: 2.03268 ms (end to end 3.86618 ms, enqueue 0.792456 ms)\n",
      "[09/28/2020-23:41:12] [I] Average on 10 runs - GPU latency: 1.96544 ms - Host latency: 2.03102 ms (end to end 3.85408 ms, enqueue 0.795367 ms)\n",
      "[09/28/2020-23:41:12] [I] Average on 10 runs - GPU latency: 1.96537 ms - Host latency: 2.03068 ms (end to end 3.85828 ms, enqueue 0.805493 ms)\n",
      "[09/28/2020-23:41:12] [I] Average on 10 runs - GPU latency: 1.96449 ms - Host latency: 2.0288 ms (end to end 3.85642 ms, enqueue 0.812366 ms)\n",
      "[09/28/2020-23:41:12] [I] Average on 10 runs - GPU latency: 1.96565 ms - Host latency: 2.03007 ms (end to end 3.86022 ms, enqueue 0.788281 ms)\n",
      "[09/28/2020-23:41:12] [I] Average on 10 runs - GPU latency: 1.96527 ms - Host latency: 2.03015 ms (end to end 3.8589 ms, enqueue 0.794995 ms)\n",
      "[09/28/2020-23:41:12] [I] Average on 10 runs - GPU latency: 1.96715 ms - Host latency: 2.03182 ms (end to end 3.86304 ms, enqueue 0.797729 ms)\n",
      "[09/28/2020-23:41:12] [I] Average on 10 runs - GPU latency: 1.965 ms - Host latency: 2.0302 ms (end to end 3.85651 ms, enqueue 0.800598 ms)\n",
      "[09/28/2020-23:41:12] [I] Average on 10 runs - GPU latency: 1.96405 ms - Host latency: 2.02897 ms (end to end 3.85598 ms, enqueue 0.80874 ms)\n",
      "[09/28/2020-23:41:12] [I] Average on 10 runs - GPU latency: 1.96577 ms - Host latency: 2.03071 ms (end to end 3.86104 ms, enqueue 0.781738 ms)\n",
      "[09/28/2020-23:41:12] [I] Average on 10 runs - GPU latency: 1.96582 ms - Host latency: 2.03085 ms (end to end 3.85941 ms, enqueue 0.802576 ms)\n",
      "[09/28/2020-23:41:12] [I] Average on 10 runs - GPU latency: 1.96372 ms - Host latency: 2.02843 ms (end to end 3.85536 ms, enqueue 0.808484 ms)\n",
      "[09/28/2020-23:41:12] [I] Average on 10 runs - GPU latency: 1.96383 ms - Host latency: 2.02882 ms (end to end 3.85564 ms, enqueue 0.815637 ms)\n",
      "[09/28/2020-23:41:12] [I] Average on 10 runs - GPU latency: 1.96411 ms - Host latency: 2.02887 ms (end to end 3.85529 ms, enqueue 0.810449 ms)\n",
      "[09/28/2020-23:41:12] [I] Average on 10 runs - GPU latency: 1.96383 ms - Host latency: 2.029 ms (end to end 3.85504 ms, enqueue 0.825952 ms)\n",
      "[09/28/2020-23:41:12] [I] Average on 10 runs - GPU latency: 1.96248 ms - Host latency: 2.02767 ms (end to end 3.85233 ms, enqueue 0.820239 ms)\n",
      "[09/28/2020-23:41:12] [I] Average on 10 runs - GPU latency: 1.9651 ms - Host latency: 2.03032 ms (end to end 3.85703 ms, enqueue 0.827649 ms)\n",
      "[09/28/2020-23:41:12] [I] Average on 10 runs - GPU latency: 1.96434 ms - Host latency: 2.02985 ms (end to end 3.85356 ms, enqueue 0.834387 ms)\n",
      "[09/28/2020-23:41:12] [I] Average on 10 runs - GPU latency: 1.96616 ms - Host latency: 2.03214 ms (end to end 3.85079 ms, enqueue 0.842236 ms)\n",
      "[09/28/2020-23:41:12] [I] Average on 10 runs - GPU latency: 1.96488 ms - Host latency: 2.03027 ms (end to end 3.85725 ms, enqueue 0.821155 ms)\n",
      "[09/28/2020-23:41:12] [I] Average on 10 runs - GPU latency: 1.96388 ms - Host latency: 2.03008 ms (end to end 3.85283 ms, enqueue 0.828564 ms)\n",
      "[09/28/2020-23:41:12] [I] Average on 10 runs - GPU latency: 1.96328 ms - Host latency: 2.02855 ms (end to end 3.8545 ms, enqueue 0.817053 ms)\n",
      "[09/28/2020-23:41:12] [I] Average on 10 runs - GPU latency: 1.96379 ms - Host latency: 2.02855 ms (end to end 3.8546 ms, enqueue 0.802722 ms)\n",
      "[09/28/2020-23:41:12] [I] Average on 10 runs - GPU latency: 1.96603 ms - Host latency: 2.03203 ms (end to end 3.86061 ms, enqueue 0.802209 ms)\n",
      "[09/28/2020-23:41:12] [I] Average on 10 runs - GPU latency: 1.96366 ms - Host latency: 2.02867 ms (end to end 3.85519 ms, enqueue 0.791602 ms)\n",
      "[09/28/2020-23:41:12] [I] Average on 10 runs - GPU latency: 1.96138 ms - Host latency: 2.02585 ms (end to end 3.85118 ms, enqueue 0.790784 ms)\n",
      "[09/28/2020-23:41:12] [I] Average on 10 runs - GPU latency: 1.96289 ms - Host latency: 2.02731 ms (end to end 3.85309 ms, enqueue 0.793127 ms)\n",
      "[09/28/2020-23:41:12] [I] Average on 10 runs - GPU latency: 1.96379 ms - Host latency: 2.02841 ms (end to end 3.85701 ms, enqueue 0.820129 ms)\n",
      "[09/28/2020-23:41:12] [I] Average on 10 runs - GPU latency: 1.96372 ms - Host latency: 2.02872 ms (end to end 3.85542 ms, enqueue 0.810962 ms)\n",
      "[09/28/2020-23:41:12] [I] Average on 10 runs - GPU latency: 1.96331 ms - Host latency: 2.02823 ms (end to end 3.85355 ms, enqueue 0.817029 ms)\n",
      "[09/28/2020-23:41:12] [I] Average on 10 runs - GPU latency: 1.96438 ms - Host latency: 2.02994 ms (end to end 3.85361 ms, enqueue 0.830225 ms)\n",
      "[09/28/2020-23:41:12] [I] Average on 10 runs - GPU latency: 1.96414 ms - Host latency: 2.03004 ms (end to end 3.85364 ms, enqueue 0.84823 ms)\n",
      "[09/28/2020-23:41:12] [I] Average on 10 runs - GPU latency: 1.9642 ms - Host latency: 2.03076 ms (end to end 3.85137 ms, enqueue 0.860181 ms)\n",
      "[09/28/2020-23:41:12] [I] Average on 10 runs - GPU latency: 1.96676 ms - Host latency: 2.03265 ms (end to end 3.85902 ms, enqueue 0.884644 ms)\n",
      "[09/28/2020-23:41:12] [I] Average on 10 runs - GPU latency: 1.96519 ms - Host latency: 2.03082 ms (end to end 3.85117 ms, enqueue 0.873145 ms)\n",
      "[09/28/2020-23:41:12] [I] Average on 10 runs - GPU latency: 1.96284 ms - Host latency: 2.02837 ms (end to end 3.85194 ms, enqueue 0.863757 ms)\n",
      "[09/28/2020-23:41:12] [I] Average on 10 runs - GPU latency: 1.96417 ms - Host latency: 2.02992 ms (end to end 3.85498 ms, enqueue 0.860999 ms)\n",
      "[09/28/2020-23:41:12] [I] Average on 10 runs - GPU latency: 1.96521 ms - Host latency: 2.03145 ms (end to end 3.84901 ms, enqueue 0.895691 ms)\n",
      "[09/28/2020-23:41:12] [I] Average on 10 runs - GPU latency: 1.96395 ms - Host latency: 2.02986 ms (end to end 3.85253 ms, enqueue 0.876318 ms)\n",
      "[09/28/2020-23:41:12] [I] Average on 10 runs - GPU latency: 1.96335 ms - Host latency: 2.02864 ms (end to end 3.84778 ms, enqueue 0.907227 ms)\n",
      "[09/28/2020-23:41:12] [I] Average on 10 runs - GPU latency: 1.96433 ms - Host latency: 2.0298 ms (end to end 3.85242 ms, enqueue 0.878491 ms)\n",
      "[09/28/2020-23:41:12] [I] Average on 10 runs - GPU latency: 1.96337 ms - Host latency: 2.02924 ms (end to end 3.85245 ms, enqueue 0.863684 ms)\n",
      "[09/28/2020-23:41:12] [I] Average on 10 runs - GPU latency: 1.96383 ms - Host latency: 2.02946 ms (end to end 3.85039 ms, enqueue 0.873547 ms)\n",
      "[09/28/2020-23:41:12] [I] Average on 10 runs - GPU latency: 1.96459 ms - Host latency: 2.03083 ms (end to end 3.85181 ms, enqueue 0.871704 ms)\n",
      "[09/28/2020-23:41:12] [I] Average on 10 runs - GPU latency: 1.96305 ms - Host latency: 2.02863 ms (end to end 3.84996 ms, enqueue 0.872998 ms)\n",
      "[09/28/2020-23:41:12] [I] Average on 10 runs - GPU latency: 1.96278 ms - Host latency: 2.02808 ms (end to end 3.84686 ms, enqueue 0.8724 ms)\n",
      "[09/28/2020-23:41:12] [I] Average on 10 runs - GPU latency: 1.96356 ms - Host latency: 2.02891 ms (end to end 3.85311 ms, enqueue 0.857874 ms)\n",
      "[09/28/2020-23:41:12] [I] Average on 10 runs - GPU latency: 1.965 ms - Host latency: 2.03026 ms (end to end 3.85587 ms, enqueue 0.834851 ms)\n",
      "[09/28/2020-23:41:12] [I] Average on 10 runs - GPU latency: 1.96437 ms - Host latency: 2.0296 ms (end to end 3.85348 ms, enqueue 0.807727 ms)\n",
      "[09/28/2020-23:41:12] [I] Average on 10 runs - GPU latency: 1.96433 ms - Host latency: 2.02943 ms (end to end 3.85167 ms, enqueue 0.806567 ms)\n",
      "[09/28/2020-23:41:12] [I] Average on 10 runs - GPU latency: 1.96378 ms - Host latency: 2.02828 ms (end to end 3.85494 ms, enqueue 0.798059 ms)\n",
      "[09/28/2020-23:41:12] [I] Average on 10 runs - GPU latency: 1.96296 ms - Host latency: 2.0281 ms (end to end 3.84878 ms, enqueue 0.811841 ms)\n",
      "[09/28/2020-23:41:12] [I] Average on 10 runs - GPU latency: 1.96401 ms - Host latency: 2.0293 ms (end to end 3.85118 ms, enqueue 0.806641 ms)\n",
      "[09/28/2020-23:41:12] [I] Average on 10 runs - GPU latency: 1.96606 ms - Host latency: 2.03118 ms (end to end 3.86367 ms, enqueue 0.812647 ms)\n",
      "[09/28/2020-23:41:12] [I] Average on 10 runs - GPU latency: 1.96467 ms - Host latency: 2.02994 ms (end to end 3.8687 ms, enqueue 0.813208 ms)\n",
      "[09/28/2020-23:41:12] [I] Average on 10 runs - GPU latency: 1.96536 ms - Host latency: 2.03057 ms (end to end 3.86189 ms, enqueue 0.826758 ms)\n",
      "[09/28/2020-23:41:12] [I] Average on 10 runs - GPU latency: 1.96543 ms - Host latency: 2.03108 ms (end to end 3.86577 ms, enqueue 0.834936 ms)\n",
      "[09/28/2020-23:41:12] [I] Average on 10 runs - GPU latency: 1.96365 ms - Host latency: 2.03127 ms (end to end 3.85923 ms, enqueue 0.878027 ms)\n",
      "[09/28/2020-23:41:12] [I] Average on 10 runs - GPU latency: 1.96423 ms - Host latency: 2.03066 ms (end to end 3.86189 ms, enqueue 0.871753 ms)\n",
      "[09/28/2020-23:41:12] [I] Average on 10 runs - GPU latency: 1.9626 ms - Host latency: 2.02876 ms (end to end 3.85701 ms, enqueue 0.898975 ms)\n",
      "[09/28/2020-23:41:12] [I] Average on 10 runs - GPU latency: 1.96528 ms - Host latency: 2.03254 ms (end to end 3.86055 ms, enqueue 0.894141 ms)\n",
      "[09/28/2020-23:41:12] [I] Average on 10 runs - GPU latency: 1.9647 ms - Host latency: 2.03149 ms (end to end 3.85859 ms, enqueue 0.895703 ms)\n",
      "[09/28/2020-23:41:12] [I] Average on 10 runs - GPU latency: 1.96628 ms - Host latency: 2.0321 ms (end to end 3.86326 ms, enqueue 0.883594 ms)\n",
      "[09/28/2020-23:41:12] [I] Average on 10 runs - GPU latency: 1.96677 ms - Host latency: 2.03333 ms (end to end 3.86182 ms, enqueue 0.897217 ms)\n",
      "[09/28/2020-23:41:12] [I] Average on 10 runs - GPU latency: 1.96506 ms - Host latency: 2.03137 ms (end to end 3.86079 ms, enqueue 0.908325 ms)\n",
      "[09/28/2020-23:41:12] [I] Average on 10 runs - GPU latency: 1.96592 ms - Host latency: 2.03259 ms (end to end 3.8624 ms, enqueue 0.923047 ms)\n",
      "[09/28/2020-23:41:12] [I] Average on 10 runs - GPU latency: 1.96667 ms - Host latency: 2.03359 ms (end to end 3.8635 ms, enqueue 0.944629 ms)\n",
      "[09/28/2020-23:41:12] [I] Average on 10 runs - GPU latency: 1.96387 ms - Host latency: 2.0303 ms (end to end 3.85603 ms, enqueue 0.921924 ms)\n",
      "[09/28/2020-23:41:12] [I] Average on 10 runs - GPU latency: 1.96582 ms - Host latency: 2.03245 ms (end to end 3.86174 ms, enqueue 0.920996 ms)\n",
      "[09/28/2020-23:41:12] [I] Average on 10 runs - GPU latency: 1.96821 ms - Host latency: 2.03442 ms (end to end 3.86602 ms, enqueue 0.920532 ms)\n",
      "[09/28/2020-23:41:12] [I] Average on 10 runs - GPU latency: 1.96584 ms - Host latency: 2.03235 ms (end to end 3.85857 ms, enqueue 0.932788 ms)\n",
      "[09/28/2020-23:41:12] [I] Average on 10 runs - GPU latency: 1.96504 ms - Host latency: 2.03201 ms (end to end 3.85959 ms, enqueue 0.93916 ms)\n",
      "[09/28/2020-23:41:12] [I] Average on 10 runs - GPU latency: 1.96545 ms - Host latency: 2.03184 ms (end to end 3.85984 ms, enqueue 0.94187 ms)\n",
      "[09/28/2020-23:41:12] [I] Average on 10 runs - GPU latency: 1.9657 ms - Host latency: 2.03186 ms (end to end 3.86162 ms, enqueue 0.92854 ms)\n",
      "[09/28/2020-23:41:12] [I] Average on 10 runs - GPU latency: 1.96567 ms - Host latency: 2.03262 ms (end to end 3.85977 ms, enqueue 0.929419 ms)\n",
      "[09/28/2020-23:41:12] [I] Average on 10 runs - GPU latency: 1.96833 ms - Host latency: 2.03633 ms (end to end 3.86355 ms, enqueue 0.955054 ms)\n",
      "[09/28/2020-23:41:12] [I] Average on 10 runs - GPU latency: 1.96448 ms - Host latency: 2.03145 ms (end to end 3.85569 ms, enqueue 0.954956 ms)\n",
      "[09/28/2020-23:41:12] [I] Average on 10 runs - GPU latency: 1.9688 ms - Host latency: 2.03625 ms (end to end 3.86309 ms, enqueue 0.972144 ms)\n",
      "[09/28/2020-23:41:12] [I] Average on 10 runs - GPU latency: 1.96643 ms - Host latency: 2.03372 ms (end to end 3.86184 ms, enqueue 0.972705 ms)\n",
      "[09/28/2020-23:41:12] [I] Average on 10 runs - GPU latency: 1.96499 ms - Host latency: 2.03228 ms (end to end 3.85869 ms, enqueue 0.974585 ms)\n",
      "[09/28/2020-23:41:12] [I] Average on 10 runs - GPU latency: 1.96489 ms - Host latency: 2.03159 ms (end to end 3.85708 ms, enqueue 0.958545 ms)\n",
      "[09/28/2020-23:41:12] [I] Average on 10 runs - GPU latency: 1.96536 ms - Host latency: 2.03203 ms (end to end 3.85813 ms, enqueue 0.955005 ms)\n",
      "[09/28/2020-23:41:12] [I] Average on 10 runs - GPU latency: 1.96426 ms - Host latency: 2.03152 ms (end to end 3.85627 ms, enqueue 0.952978 ms)\n",
      "[09/28/2020-23:41:12] [I] Average on 10 runs - GPU latency: 1.96616 ms - Host latency: 2.03315 ms (end to end 3.85825 ms, enqueue 0.964478 ms)\n",
      "[09/28/2020-23:41:12] [I] Average on 10 runs - GPU latency: 1.96755 ms - Host latency: 2.0353 ms (end to end 3.86089 ms, enqueue 0.972314 ms)\n",
      "[09/28/2020-23:41:12] [I] Average on 10 runs - GPU latency: 1.96458 ms - Host latency: 2.03198 ms (end to end 3.85547 ms, enqueue 0.974194 ms)\n",
      "[09/28/2020-23:41:12] [I] Average on 10 runs - GPU latency: 1.96902 ms - Host latency: 2.03579 ms (end to end 3.86768 ms, enqueue 0.968701 ms)\n",
      "[09/28/2020-23:41:12] [I] Average on 10 runs - GPU latency: 1.9658 ms - Host latency: 2.03242 ms (end to end 3.85718 ms, enqueue 0.954321 ms)\n",
      "[09/28/2020-23:41:12] [I] Average on 10 runs - GPU latency: 1.96262 ms - Host latency: 2.03035 ms (end to end 3.85251 ms, enqueue 0.956738 ms)\n",
      "[09/28/2020-23:41:12] [I] Average on 10 runs - GPU latency: 1.96462 ms - Host latency: 2.03167 ms (end to end 3.85613 ms, enqueue 0.95625 ms)\n",
      "[09/28/2020-23:41:12] [I] Average on 10 runs - GPU latency: 1.96785 ms - Host latency: 2.03709 ms (end to end 3.86294 ms, enqueue 0.96958 ms)\n",
      "[09/28/2020-23:41:12] [I] Average on 10 runs - GPU latency: 1.96506 ms - Host latency: 2.03186 ms (end to end 3.85833 ms, enqueue 0.974829 ms)\n",
      "[09/28/2020-23:41:12] [I] Average on 10 runs - GPU latency: 1.96692 ms - Host latency: 2.03408 ms (end to end 3.86174 ms, enqueue 0.97522 ms)\n",
      "[09/28/2020-23:41:12] [I] Average on 10 runs - GPU latency: 1.96638 ms - Host latency: 2.03315 ms (end to end 3.8616 ms, enqueue 0.959766 ms)\n",
      "[09/28/2020-23:41:12] [I] Average on 10 runs - GPU latency: 1.96614 ms - Host latency: 2.03311 ms (end to end 3.85977 ms, enqueue 0.955225 ms)\n",
      "[09/28/2020-23:41:12] [I] Average on 10 runs - GPU latency: 1.96191 ms - Host latency: 2.02935 ms (end to end 3.85049 ms, enqueue 0.956274 ms)\n",
      "[09/28/2020-23:41:12] [I] Average on 10 runs - GPU latency: 1.96497 ms - Host latency: 2.03218 ms (end to end 3.85745 ms, enqueue 0.947607 ms)\n",
      "[09/28/2020-23:41:12] [I] Average on 10 runs - GPU latency: 1.9667 ms - Host latency: 2.03425 ms (end to end 3.86423 ms, enqueue 0.939185 ms)\n",
      "[09/28/2020-23:41:12] [I] Average on 10 runs - GPU latency: 1.96487 ms - Host latency: 2.03157 ms (end to end 3.85962 ms, enqueue 0.940405 ms)\n",
      "[09/28/2020-23:41:12] [I] Average on 10 runs - GPU latency: 1.96587 ms - Host latency: 2.03281 ms (end to end 3.86147 ms, enqueue 0.934497 ms)\n",
      "[09/28/2020-23:41:12] [I] Average on 10 runs - GPU latency: 1.9658 ms - Host latency: 2.03289 ms (end to end 3.85955 ms, enqueue 0.93147 ms)\n",
      "[09/28/2020-23:41:12] [I] Average on 10 runs - GPU latency: 1.96487 ms - Host latency: 2.03228 ms (end to end 3.85857 ms, enqueue 0.922241 ms)\n",
      "[09/28/2020-23:41:12] [I] Average on 10 runs - GPU latency: 1.96475 ms - Host latency: 2.03201 ms (end to end 3.8563 ms, enqueue 0.922217 ms)\n",
      "[09/28/2020-23:41:12] [I] Average on 10 runs - GPU latency: 1.96555 ms - Host latency: 2.03232 ms (end to end 3.86008 ms, enqueue 0.936914 ms)\n",
      "[09/28/2020-23:41:12] [I] Average on 10 runs - GPU latency: 1.9667 ms - Host latency: 2.03352 ms (end to end 3.86333 ms, enqueue 0.949097 ms)\n",
      "[09/28/2020-23:41:12] [I] Average on 10 runs - GPU latency: 1.96553 ms - Host latency: 2.03291 ms (end to end 3.86108 ms, enqueue 0.972803 ms)\n",
      "[09/28/2020-23:41:12] [I] Average on 10 runs - GPU latency: 1.96409 ms - Host latency: 2.03098 ms (end to end 3.85571 ms, enqueue 0.958765 ms)\n",
      "[09/28/2020-23:41:12] [I] Average on 10 runs - GPU latency: 1.9636 ms - Host latency: 2.03054 ms (end to end 3.85396 ms, enqueue 0.955518 ms)\n",
      "[09/28/2020-23:41:12] [I] Average on 10 runs - GPU latency: 1.96658 ms - Host latency: 2.03318 ms (end to end 3.86099 ms, enqueue 0.955396 ms)\n",
      "[09/28/2020-23:41:12] [I] Average on 10 runs - GPU latency: 1.96563 ms - Host latency: 2.03259 ms (end to end 3.85659 ms, enqueue 0.966211 ms)\n",
      "[09/28/2020-23:41:12] [I] Average on 10 runs - GPU latency: 1.96741 ms - Host latency: 2.03423 ms (end to end 3.86206 ms, enqueue 0.973999 ms)\n",
      "[09/28/2020-23:41:12] [I] Average on 10 runs - GPU latency: 1.96538 ms - Host latency: 2.0333 ms (end to end 3.85933 ms, enqueue 0.975024 ms)\n",
      "[09/28/2020-23:41:12] [I] Host Latency\n",
      "[09/28/2020-23:41:12] [I] min: 2.01978 ms (end to end 2.04309 ms)\n",
      "[09/28/2020-23:41:12] [I] max: 2.12799 ms (end to end 4.05124 ms)\n",
      "[09/28/2020-23:41:12] [I] mean: 2.03617 ms (end to end 3.8619 ms)\n",
      "[09/28/2020-23:41:12] [I] median: 2.03174 ms (end to end 3.85925 ms)\n",
      "[09/28/2020-23:41:12] [I] percentile: 2.1196 ms at 99% (end to end 4.03424 ms at 99%)\n",
      "[09/28/2020-23:41:12] [I] throughput: 0 qps\n",
      "[09/28/2020-23:41:12] [I] walltime: 3.006 s\n",
      "[09/28/2020-23:41:12] [I] Enqueue Time\n",
      "[09/28/2020-23:41:12] [I] min: 0.721313 ms\n",
      "[09/28/2020-23:41:12] [I] max: 1.11537 ms\n",
      "[09/28/2020-23:41:12] [I] median: 0.879028 ms\n",
      "[09/28/2020-23:41:12] [I] GPU Compute\n",
      "[09/28/2020-23:41:12] [I] min: 1.95361 ms\n",
      "[09/28/2020-23:41:12] [I] max: 2.06406 ms\n",
      "[09/28/2020-23:41:12] [I] mean: 1.97056 ms\n",
      "[09/28/2020-23:41:12] [I] median: 1.96594 ms\n",
      "[09/28/2020-23:41:12] [I] percentile: 2.05516 ms at 99%\n",
      "[09/28/2020-23:41:12] [I] total compute time: 2.99131 s\n",
      "&&&& PASSED TensorRT.trtexec # trtexec --onnx=resnet50_onnx_model.onnx --batch=1 --saveEngine=resnet_engine.trt --explicitBatch\n"
     ]
    }
   ],
   "source": [
    "# May need to shut down all kernels and restart before this:\n",
    "!trtexec --onnx=resnet50_onnx_model.onnx --batch=1 --saveEngine=resnet_engine.trt  --explicitBatch 2>&1"
   ]
  },
  {
   "cell_type": "code",
   "execution_count": 5,
   "metadata": {},
   "outputs": [],
   "source": [
    "import numpy as np\n",
    "\n",
    "dummy_input_batch = np.zeros((32, 224, 224, 3))"
   ]
  },
  {
   "cell_type": "code",
   "execution_count": 6,
   "metadata": {
    "id": "dX2jFwrA8qu6"
   },
   "outputs": [],
   "source": [
    "import tensorrt as trt\n",
    "import pycuda.driver as cuda\n",
    "import pycuda.autoinit\n",
    "\n",
    "f = open(\"resnet_engine.trt\", \"rb\")\n",
    "runtime = trt.Runtime(trt.Logger(trt.Logger.WARNING)) \n",
    "\n",
    "engine = runtime.deserialize_cuda_engine(f.read())\n",
    "context = engine.create_execution_context()"
   ]
  },
  {
   "cell_type": "code",
   "execution_count": 7,
   "metadata": {
    "id": "q3UJcdWy8qu8"
   },
   "outputs": [],
   "source": [
    "output = np.empty(1000, dtype = np.float32)\n",
    "\n",
    "# Allocate device memory\n",
    "d_input = cuda.mem_alloc(1 * dummy_input_batch.nbytes)\n",
    "d_output = cuda.mem_alloc(1 * output.nbytes)\n",
    "\n",
    "bindings = [int(d_input), int(d_output)]\n",
    "\n",
    "stream = cuda.Stream()"
   ]
  },
  {
   "cell_type": "code",
   "execution_count": 8,
   "metadata": {
    "id": "6R-F8JtV8qu-"
   },
   "outputs": [],
   "source": [
    "def predict_batch(batch): # result gets copied into output\n",
    "    # Transfer input data to device\n",
    "    cuda.memcpy_htod_async(d_input, batch, stream)\n",
    "    # Execute model\n",
    "    context.execute_async(1, bindings, stream.handle, None)\n",
    "    # Transfer predictions back\n",
    "    cuda.memcpy_dtoh_async(output, d_output, stream)\n",
    "    # Syncronize threads\n",
    "    stream.synchronize()"
   ]
  },
  {
   "cell_type": "code",
   "execution_count": 9,
   "metadata": {
    "id": "AdKZzW7O8qvB"
   },
   "outputs": [
    {
     "name": "stdout",
     "output_type": "stream",
     "text": [
      "Warming up...\n",
      "Done warming up!\n"
     ]
    }
   ],
   "source": [
    "print(\"Warming up...\")\n",
    "\n",
    "predict_batch(dummy_input_batch)\n",
    "\n",
    "print(\"Done warming up!\")"
   ]
  },
  {
   "cell_type": "code",
   "execution_count": 10,
   "metadata": {
    "id": "XAtWnCK38qvD"
   },
   "outputs": [
    {
     "name": "stdout",
     "output_type": "stream",
     "text": [
      "Prediction: 111\n",
      "CPU times: user 10.1 ms, sys: 0 ns, total: 10.1 ms\n",
      "Wall time: 8.15 ms\n"
     ]
    }
   ],
   "source": [
    "%%time\n",
    "\n",
    "predict_batch(dummy_input_batch) # Check TRT performance\n",
    "\n",
    "print (\"Prediction: \" + str(np.argmax(output)))"
   ]
  },
  {
   "cell_type": "code",
   "execution_count": null,
   "metadata": {
    "id": "DBjc2kR68qvF"
   },
   "outputs": [],
   "source": []
  }
 ],
 "metadata": {
  "accelerator": "GPU",
  "colab": {
   "name": "ONNXExample.ipynb",
   "provenance": []
  },
  "kernelspec": {
   "display_name": "Python 3",
   "language": "python",
   "name": "python3"
  },
  "language_info": {
   "codemirror_mode": {
    "name": "ipython",
    "version": 3
   },
   "file_extension": ".py",
   "mimetype": "text/x-python",
   "name": "python",
   "nbconvert_exporter": "python",
   "pygments_lexer": "ipython3",
   "version": "3.6.9"
  }
 },
 "nbformat": 4,
 "nbformat_minor": 4
}