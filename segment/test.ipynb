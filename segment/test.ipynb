{
 "cells": [
  {
   "cell_type": "code",
   "execution_count": 63,
   "metadata": {},
   "outputs": [],
   "source": [
    "import sys, os\n",
    "import json\n",
    "import pandas as pd\n",
    "import numpy as np\n",
    "from IPython.display import Markdown, display\n",
    "import ipywidgets as widgets\n",
    "import plotly\n",
    "import plotly.graph_objects as graph_obj\n",
    "import plotly.figure_factory as ff\n",
    "\n",
    "sys.path.append(os.path.join(os.getcwd(),'../utils'))\n",
    "from s3 import s3store\n",
    "from jsonutil import WriteDictJson, ReadDictJson"
   ]
  },
  {
   "cell_type": "code",
   "execution_count": 64,
   "metadata": {},
   "outputs": [],
   "source": [
    "output = widgets.Output()\n",
    "clear_output = widgets.Button(description='Clear Output')\n",
    "\n",
    "test_select = widgets.Select(\n",
    "    options=[],\n",
    "    description='Test:',\n",
    "    disabled=False,\n",
    "    #rows=25,\n",
    ")"
   ]
  },
  {
   "cell_type": "code",
   "execution_count": 65,
   "metadata": {},
   "outputs": [],
   "source": [
    "trainingset='2021-02-22-14-17-19-cocoseg'"
   ]
  },
  {
   "cell_type": "code",
   "execution_count": 66,
   "metadata": {},
   "outputs": [
    {
     "output_type": "display_data",
     "data": {
      "text/plain": "                   date                                     name  \\\n0  03/26/2021, 16:56:04                 Test tesorflow inference   \n1  03/26/2021, 10:03:51    Test TensorRT inference on Jetson AGX   \n2  03/26/2021, 10:09:27   Test Tensorflow inference on Jetson NX   \n3  03/26/2021, 17:14:46                      Test Onnx Inference   \n4  03/26/2021, 17:24:13                  Test TensorRT inference   \n5  03/26/2021, 10:24:28     Test TensorRT inference on Jetson NX   \n6  03/26/2021, 17:52:09                  Test TensorRT inference   \n7  03/26/2021, 11:07:13  Test Tensorflow inference on Jetson AGX   \n8  03/26/2021, 11:12:48                  Test TensorRT inference   \n\n                                    description                        model  \\\n0  Tensorflow image segmentation inference test  2021-02-24-10-28-35-cocoseg   \n1  Tensorflow image segmentation inference test  2021-02-24-10-28-35-cocoseg   \n2    TensorRT image segmentation inference test                          NaN   \n3        Onnx image segmentation inference test  2021-02-24-10-28-35-cocoseg   \n4    TensorRT image segmentation inference test  2021-02-24-10-28-35-cocoseg   \n5  Tensorflow image segmentation inference test  2021-02-24-10-28-35-cocoseg   \n6    TensorRT image segmentation inference test  2021-02-24-10-28-35-cocoseg   \n7    TensorRT image segmentation inference test  2021-02-24-10-28-35-cocoseg   \n8    TensorRT image segmentation inference test  2021-02-24-10-28-35-cocoseg   \n\n   accuracy                                   class_similarity  similarity  \\\n0  0.947786  {'0': {'intersection': 0, 'union': 0, 'similar...    0.671104   \n1  0.945007  {'0': {'intersection': 0, 'union': 0, 'similar...    0.665993   \n2  0.941661  {'0': {'intersection': 0, 'union': 0, 'similar...    0.666916   \n3  0.947474  {'0': {'intersection': 0, 'union': 0, 'similar...    0.667503   \n4  0.947143  {'0': {'intersection': 0, 'union': 0, 'similar...    0.667975   \n5  0.946283  {'0': {'intersection': 0, 'union': 0, 'similar...    0.668803   \n6  0.947243  {'0': {'intersection': 0, 'union': 0, 'similar...    0.667738   \n7  0.945176  {'0': {'intersection': 0, 'union': 0, 'similar...    0.668743   \n8  0.947821  {'0': {'intersection': 0, 'union': 0, 'similar...    0.668721   \n\n                                           confusion  images  image time  \\\n0  [[1019548947, 9595635, 4203804, 2923134], [191...    5000    0.008239   \n1  [[1019350248, 9796639, 4241524, 2959965], [191...    5000    0.029665   \n2  [[1019907044, 9629625, 4206098, 2848148], [193...    5000    0.370289   \n3  [[1019719461, 9622954, 4165141, 2917806], [192...    5000    0.153856   \n4  [[1019437029, 9934886, 4135475, 2943224], [191...    5000    0.081521   \n5  [[1019144591, 9674309, 4285973, 2939232], [191...    5000    0.046575   \n6  [[1019966186, 9665795, 4106383, 2881045], [191...    5000    0.078562   \n7  [[1019732100, 9768806, 4132898, 2916726], [190...    5000    0.231636   \n8  [[1020011948, 9752605, 4045508, 2867675], [191...    5000    0.076331   \n\n   batch size             store address test bucket  \\\n0           1  ipc.larson.myds.me:31994       mllib   \n1           1       192.168.0.155:31994       mllib   \n2           1       192.168.0.155:31994       mllib   \n3           1  ipc.larson.myds.me:31994       mllib   \n4           1  ipc.larson.myds.me:31994       mllib   \n5           1       192.168.0.155:31994       mllib   \n6           1  ipc.larson.myds.me:31994       mllib   \n7           1       192.168.0.155:31994       mllib   \n8           1  ipc.larson.myds.me:31994       mllib   \n\n                                            platform  \n0     Linux-4.15.0-137-generic-x86_64-with-glibc2.29  \n1  Linux-4.9.201-tegra-aarch64-with-Ubuntu-18.04-...  \n2  Linux-4.9.201-tegra-aarch64-with-Ubuntu-18.04-...  \n3     Linux-4.15.0-137-generic-x86_64-with-glibc2.29  \n4     Linux-4.15.0-137-generic-x86_64-with-glibc2.29  \n5  Linux-4.9.201-tegra-aarch64-with-Ubuntu-18.04-...  \n6     Linux-4.15.0-137-generic-x86_64-with-glibc2.29  \n7  Linux-4.9.201-tegra-aarch64-with-Ubuntu-18.04-...  \n8  Linux-4.15.0-137-generic-x86_64-with-Ubuntu-18...  ",
      "text/html": "<div>\n<style scoped>\n    .dataframe tbody tr th:only-of-type {\n        vertical-align: middle;\n    }\n\n    .dataframe tbody tr th {\n        vertical-align: top;\n    }\n\n    .dataframe thead th {\n        text-align: right;\n    }\n</style>\n<table border=\"1\" class=\"dataframe\">\n  <thead>\n    <tr style=\"text-align: right;\">\n      <th></th>\n      <th>date</th>\n      <th>name</th>\n      <th>description</th>\n      <th>model</th>\n      <th>accuracy</th>\n      <th>class_similarity</th>\n      <th>similarity</th>\n      <th>confusion</th>\n      <th>images</th>\n      <th>image time</th>\n      <th>batch size</th>\n      <th>store address</th>\n      <th>test bucket</th>\n      <th>platform</th>\n    </tr>\n  </thead>\n  <tbody>\n    <tr>\n      <th>0</th>\n      <td>03/26/2021, 16:56:04</td>\n      <td>Test tesorflow inference</td>\n      <td>Tensorflow image segmentation inference test</td>\n      <td>2021-02-24-10-28-35-cocoseg</td>\n      <td>0.947786</td>\n      <td>{'0': {'intersection': 0, 'union': 0, 'similar...</td>\n      <td>0.671104</td>\n      <td>[[1019548947, 9595635, 4203804, 2923134], [191...</td>\n      <td>5000</td>\n      <td>0.008239</td>\n      <td>1</td>\n      <td>ipc.larson.myds.me:31994</td>\n      <td>mllib</td>\n      <td>Linux-4.15.0-137-generic-x86_64-with-glibc2.29</td>\n    </tr>\n    <tr>\n      <th>1</th>\n      <td>03/26/2021, 10:03:51</td>\n      <td>Test TensorRT inference on Jetson AGX</td>\n      <td>Tensorflow image segmentation inference test</td>\n      <td>2021-02-24-10-28-35-cocoseg</td>\n      <td>0.945007</td>\n      <td>{'0': {'intersection': 0, 'union': 0, 'similar...</td>\n      <td>0.665993</td>\n      <td>[[1019350248, 9796639, 4241524, 2959965], [191...</td>\n      <td>5000</td>\n      <td>0.029665</td>\n      <td>1</td>\n      <td>192.168.0.155:31994</td>\n      <td>mllib</td>\n      <td>Linux-4.9.201-tegra-aarch64-with-Ubuntu-18.04-...</td>\n    </tr>\n    <tr>\n      <th>2</th>\n      <td>03/26/2021, 10:09:27</td>\n      <td>Test Tensorflow inference on Jetson NX</td>\n      <td>TensorRT image segmentation inference test</td>\n      <td>NaN</td>\n      <td>0.941661</td>\n      <td>{'0': {'intersection': 0, 'union': 0, 'similar...</td>\n      <td>0.666916</td>\n      <td>[[1019907044, 9629625, 4206098, 2848148], [193...</td>\n      <td>5000</td>\n      <td>0.370289</td>\n      <td>1</td>\n      <td>192.168.0.155:31994</td>\n      <td>mllib</td>\n      <td>Linux-4.9.201-tegra-aarch64-with-Ubuntu-18.04-...</td>\n    </tr>\n    <tr>\n      <th>3</th>\n      <td>03/26/2021, 17:14:46</td>\n      <td>Test Onnx Inference</td>\n      <td>Onnx image segmentation inference test</td>\n      <td>2021-02-24-10-28-35-cocoseg</td>\n      <td>0.947474</td>\n      <td>{'0': {'intersection': 0, 'union': 0, 'similar...</td>\n      <td>0.667503</td>\n      <td>[[1019719461, 9622954, 4165141, 2917806], [192...</td>\n      <td>5000</td>\n      <td>0.153856</td>\n      <td>1</td>\n      <td>ipc.larson.myds.me:31994</td>\n      <td>mllib</td>\n      <td>Linux-4.15.0-137-generic-x86_64-with-glibc2.29</td>\n    </tr>\n    <tr>\n      <th>4</th>\n      <td>03/26/2021, 17:24:13</td>\n      <td>Test TensorRT inference</td>\n      <td>TensorRT image segmentation inference test</td>\n      <td>2021-02-24-10-28-35-cocoseg</td>\n      <td>0.947143</td>\n      <td>{'0': {'intersection': 0, 'union': 0, 'similar...</td>\n      <td>0.667975</td>\n      <td>[[1019437029, 9934886, 4135475, 2943224], [191...</td>\n      <td>5000</td>\n      <td>0.081521</td>\n      <td>1</td>\n      <td>ipc.larson.myds.me:31994</td>\n      <td>mllib</td>\n      <td>Linux-4.15.0-137-generic-x86_64-with-glibc2.29</td>\n    </tr>\n    <tr>\n      <th>5</th>\n      <td>03/26/2021, 10:24:28</td>\n      <td>Test TensorRT inference on Jetson NX</td>\n      <td>Tensorflow image segmentation inference test</td>\n      <td>2021-02-24-10-28-35-cocoseg</td>\n      <td>0.946283</td>\n      <td>{'0': {'intersection': 0, 'union': 0, 'similar...</td>\n      <td>0.668803</td>\n      <td>[[1019144591, 9674309, 4285973, 2939232], [191...</td>\n      <td>5000</td>\n      <td>0.046575</td>\n      <td>1</td>\n      <td>192.168.0.155:31994</td>\n      <td>mllib</td>\n      <td>Linux-4.9.201-tegra-aarch64-with-Ubuntu-18.04-...</td>\n    </tr>\n    <tr>\n      <th>6</th>\n      <td>03/26/2021, 17:52:09</td>\n      <td>Test TensorRT inference</td>\n      <td>TensorRT image segmentation inference test</td>\n      <td>2021-02-24-10-28-35-cocoseg</td>\n      <td>0.947243</td>\n      <td>{'0': {'intersection': 0, 'union': 0, 'similar...</td>\n      <td>0.667738</td>\n      <td>[[1019966186, 9665795, 4106383, 2881045], [191...</td>\n      <td>5000</td>\n      <td>0.078562</td>\n      <td>1</td>\n      <td>ipc.larson.myds.me:31994</td>\n      <td>mllib</td>\n      <td>Linux-4.15.0-137-generic-x86_64-with-glibc2.29</td>\n    </tr>\n    <tr>\n      <th>7</th>\n      <td>03/26/2021, 11:07:13</td>\n      <td>Test Tensorflow inference on Jetson AGX</td>\n      <td>TensorRT image segmentation inference test</td>\n      <td>2021-02-24-10-28-35-cocoseg</td>\n      <td>0.945176</td>\n      <td>{'0': {'intersection': 0, 'union': 0, 'similar...</td>\n      <td>0.668743</td>\n      <td>[[1019732100, 9768806, 4132898, 2916726], [190...</td>\n      <td>5000</td>\n      <td>0.231636</td>\n      <td>1</td>\n      <td>192.168.0.155:31994</td>\n      <td>mllib</td>\n      <td>Linux-4.9.201-tegra-aarch64-with-Ubuntu-18.04-...</td>\n    </tr>\n    <tr>\n      <th>8</th>\n      <td>03/26/2021, 11:12:48</td>\n      <td>Test TensorRT inference</td>\n      <td>TensorRT image segmentation inference test</td>\n      <td>2021-02-24-10-28-35-cocoseg</td>\n      <td>0.947821</td>\n      <td>{'0': {'intersection': 0, 'union': 0, 'similar...</td>\n      <td>0.668721</td>\n      <td>[[1020011948, 9752605, 4045508, 2867675], [191...</td>\n      <td>5000</td>\n      <td>0.076331</td>\n      <td>1</td>\n      <td>ipc.larson.myds.me:31994</td>\n      <td>mllib</td>\n      <td>Linux-4.15.0-137-generic-x86_64-with-Ubuntu-18...</td>\n    </tr>\n  </tbody>\n</table>\n</div>"
     },
     "metadata": {}
    }
   ],
   "source": [
    "creds = ReadDictJson('../creds.json')\n",
    "if not creds:\n",
    "    output.append_stdout('Failed to load credentials file {}\\n'.format(args.credentails))\n",
    "\n",
    "s3def = creds['s3'][0]\n",
    "s3 = s3store(s3def['address'], s3def['access key'], s3def['secret key'], cert_verify=False)\n",
    "validation = s3def['sets']['trainingset']\n",
    "\n",
    "test_obj = '{}/{}/tests.json'.format(validation['prefix'], trainingset)\n",
    "desc_obj = '{}/{}/description.json'.format(validation['prefix'], trainingset)\n",
    "testjson = s3.GetDict(validation['bucket'], test_obj)\n",
    "descjson = s3.GetDict(validation['bucket'], desc_obj)\n",
    "\n",
    "tests = pd.DataFrame(testjson)\n",
    "display(tests)"
   ]
  },
  {
   "cell_type": "code",
   "execution_count": 67,
   "metadata": {},
   "outputs": [
    {
     "output_type": "display_data",
     "data": {
      "text/plain": "                                                    images  accuracy  \\\nTest tesorflow inference 03/26/2021, 16:56:04       5000.0  0.947786   \nTest TensorRT inference on Jetson AGX 03/26/202...  5000.0  0.945007   \nTest Tensorflow inference on Jetson NX 03/26/20...  5000.0  0.941661   \nTest Onnx Inference 03/26/2021, 17:14:46            5000.0  0.947474   \nTest TensorRT inference 03/26/2021, 17:24:13        5000.0  0.947143   \nTest TensorRT inference on Jetson NX 03/26/2021...  5000.0  0.946283   \nTest TensorRT inference 03/26/2021, 17:52:09        5000.0  0.947243   \nTest Tensorflow inference on Jetson AGX 03/26/2...  5000.0  0.945176   \nTest TensorRT inference 03/26/2021, 11:12:48        5000.0  0.947821   \n\n                                                    similarity  inference time  \nTest tesorflow inference 03/26/2021, 16:56:04         0.671104        0.008239  \nTest TensorRT inference on Jetson AGX 03/26/202...    0.665993        0.029665  \nTest Tensorflow inference on Jetson NX 03/26/20...    0.666916        0.370289  \nTest Onnx Inference 03/26/2021, 17:14:46              0.667503        0.153856  \nTest TensorRT inference 03/26/2021, 17:24:13          0.667975        0.081521  \nTest TensorRT inference on Jetson NX 03/26/2021...    0.668803        0.046575  \nTest TensorRT inference 03/26/2021, 17:52:09          0.667738        0.078562  \nTest Tensorflow inference on Jetson AGX 03/26/2...    0.668743        0.231636  \nTest TensorRT inference 03/26/2021, 11:12:48          0.668721        0.076331  ",
      "text/html": "<div>\n<style scoped>\n    .dataframe tbody tr th:only-of-type {\n        vertical-align: middle;\n    }\n\n    .dataframe tbody tr th {\n        vertical-align: top;\n    }\n\n    .dataframe thead th {\n        text-align: right;\n    }\n</style>\n<table border=\"1\" class=\"dataframe\">\n  <thead>\n    <tr style=\"text-align: right;\">\n      <th></th>\n      <th>images</th>\n      <th>accuracy</th>\n      <th>similarity</th>\n      <th>inference time</th>\n    </tr>\n  </thead>\n  <tbody>\n    <tr>\n      <th>Test tesorflow inference 03/26/2021, 16:56:04</th>\n      <td>5000.0</td>\n      <td>0.947786</td>\n      <td>0.671104</td>\n      <td>0.008239</td>\n    </tr>\n    <tr>\n      <th>Test TensorRT inference on Jetson AGX 03/26/2021, 10:03:51</th>\n      <td>5000.0</td>\n      <td>0.945007</td>\n      <td>0.665993</td>\n      <td>0.029665</td>\n    </tr>\n    <tr>\n      <th>Test Tensorflow inference on Jetson NX 03/26/2021, 10:09:27</th>\n      <td>5000.0</td>\n      <td>0.941661</td>\n      <td>0.666916</td>\n      <td>0.370289</td>\n    </tr>\n    <tr>\n      <th>Test Onnx Inference 03/26/2021, 17:14:46</th>\n      <td>5000.0</td>\n      <td>0.947474</td>\n      <td>0.667503</td>\n      <td>0.153856</td>\n    </tr>\n    <tr>\n      <th>Test TensorRT inference 03/26/2021, 17:24:13</th>\n      <td>5000.0</td>\n      <td>0.947143</td>\n      <td>0.667975</td>\n      <td>0.081521</td>\n    </tr>\n    <tr>\n      <th>Test TensorRT inference on Jetson NX 03/26/2021, 10:24:28</th>\n      <td>5000.0</td>\n      <td>0.946283</td>\n      <td>0.668803</td>\n      <td>0.046575</td>\n    </tr>\n    <tr>\n      <th>Test TensorRT inference 03/26/2021, 17:52:09</th>\n      <td>5000.0</td>\n      <td>0.947243</td>\n      <td>0.667738</td>\n      <td>0.078562</td>\n    </tr>\n    <tr>\n      <th>Test Tensorflow inference on Jetson AGX 03/26/2021, 11:07:13</th>\n      <td>5000.0</td>\n      <td>0.945176</td>\n      <td>0.668743</td>\n      <td>0.231636</td>\n    </tr>\n    <tr>\n      <th>Test TensorRT inference 03/26/2021, 11:12:48</th>\n      <td>5000.0</td>\n      <td>0.947821</td>\n      <td>0.668721</td>\n      <td>0.076331</td>\n    </tr>\n  </tbody>\n</table>\n</div>"
     },
     "metadata": {}
    }
   ],
   "source": [
    "iClasses = {}\n",
    "classNames = [''] * descjson['classes']['classes']\n",
    "for clasdesc in descjson['classes']['objects']:\n",
    "    if clasdesc['trainId'] not in iClasses.keys():\n",
    "        classNames[clasdesc['trainId']] = clasdesc['category']\n",
    "        if not (clasdesc['category'] == 'void'):\n",
    "            iClasses[clasdesc['trainId']] = clasdesc\n",
    "\n",
    "overview = {}\n",
    "results = {}\n",
    "confusion = {}\n",
    "test_names = []\n",
    "    \n",
    "for test in testjson:\n",
    "    if 'name' in test:\n",
    "        name = '{} {}'.format(test['name'], test['date'])\n",
    "    elif 'model' in test:\n",
    "        name = '{} {}'.format(test['model'], test['date'])\n",
    "    else: \n",
    "        name = '{}'.format(test['date'])\n",
    "    test_names.append(name)\n",
    "    \n",
    "    test_overview = {'images':test['images'],'accuracy':test['accuracy'],'similarity':test['similarity'], 'inference time':test['image time']}\n",
    "    overview[name]=test_overview\n",
    "    \n",
    "    similarity = {}\n",
    "    for key in iClasses:\n",
    "        res = test['class_similarity'][str(key)]\n",
    "        if res:\n",
    "            similarity[iClasses[key]['category']] = test['class_similarity'][str(key)]['similarity']\n",
    "\n",
    "    results[name] = {'similarity':similarity, 'confusion':test['confusion']}\n",
    "    \n",
    "display(pd.DataFrame(overview).T)"
   ]
  },
  {
   "cell_type": "code",
   "execution_count": 68,
   "metadata": {},
   "outputs": [],
   "source": [
    "c = np.array(results[test_names[0]]['confusion'])\n",
    "norm_confusion = (c.T / c.astype(np.float).sum(axis=1)).T\n",
    "norm_confusion = norm_confusion.round(decimals=3)\n",
    "\n",
    "confusion_text = [[str(round(y, 3)) for y in x] for x in norm_confusion]\n",
    "\n",
    "# set up figure \n",
    "confusion_plot = plotly.figure_factory.create_annotated_heatmap(norm_confusion, x=classNames, y=classNames, colorscale='plasma')\n",
    "\n",
    "# add custom xaxis title\n",
    "confusion_plot.add_annotation(dict(font=dict(color=\"black\",size=16),\n",
    "                   x=0.5,\n",
    "                   y=-0.15,\n",
    "                   showarrow=False,\n",
    "                   text=\"Predicted value\",\n",
    "                   xref=\"paper\",\n",
    "                   yref=\"paper\"))\n",
    "\n",
    "# add custom yaxis title\n",
    "confusion_plot.add_annotation(dict(font=dict(color=\"black\",size=16),\n",
    "                   x=-0.2,\n",
    "                   y=0.5,\n",
    "                   showarrow=False,\n",
    "                   text=\"Real value\",\n",
    "                   textangle=-90,\n",
    "                   xref=\"paper\",\n",
    "                   yref=\"paper\"))\n",
    "\n",
    "\n",
    "# adjust margins to make room for yaxis title\n",
    "confusion_plot.update_layout(margin=dict(t=50, l=200))\n",
    "\n",
    "# add colorbar\n",
    "confusion_plot['data'][0]['showscale'] = True\n",
    "confusion_plot.update_layout(yaxis_autorange=\"reversed\")\n",
    "\n",
    "confusion_display = graph_obj.FigureWidget(confusion_plot)\n"
   ]
  },
  {
   "cell_type": "code",
   "execution_count": 69,
   "metadata": {},
   "outputs": [],
   "source": [
    "def SelectTest(change, select, display, testjson):\n",
    "    global test_select\n",
    "    global confusion_display\n",
    "    global output\n",
    "    global results\n",
    "    global confusion_plot\n",
    "    \n",
    "    with confusion_display.batch_update():\n",
    "        \n",
    "        c = np.array(results[test_select.value]['confusion'])\n",
    "        norm_confusion = (c.T / c.astype(np.float).sum(axis=1)).T\n",
    "        confusion_text = [str(round(x, 3)) for x in norm_confusion.flatten()]\n",
    "        confusion_display.data[0].z =  norm_confusion\n",
    "        confusion_display.update_layout(yaxis_autorange=\"reversed\")\n",
    "        \n",
    "        for i in range(len(confusion_text)):\n",
    "            confusion_display.layout.annotations[i].text = confusion_text[i]\n",
    "            \n",
    "def ClearOutput(b):\n",
    "    global test_select\n",
    "    global confusion_display\n",
    "    global output\n",
    "    output.clear_output()"
   ]
  },
  {
   "cell_type": "code",
   "execution_count": 70,
   "metadata": {},
   "outputs": [
    {
     "output_type": "display_data",
     "data": {
      "text/plain": "VBox(children=(HBox(children=(Select(description='Test:', options=('Test tesorflow inference 03/26/2021, 16:56…",
      "application/vnd.jupyter.widget-view+json": {
       "version_major": 2,
       "version_minor": 0,
       "model_id": "6f2f1545cdf84fa9bcc8e31e62e86b5d"
      }
     },
     "metadata": {}
    }
   ],
   "source": [
    "\n",
    "clear_output.on_click(lambda b: ClearOutput(b))\n",
    "\n",
    "\n",
    "display_results = widgets.HBox([test_select, confusion_display])\n",
    "attach = widgets.VBox([display_results, clear_output, output])\n",
    "\n",
    "test_select.observe (lambda change:SelectTest(change, select=test_select, display=confusion_display, testjson=testjson), names=\"value\")\n",
    "\n",
    "if len(test_names) > 0:\n",
    "    test_select.options = test_names\n",
    "    test_select.value = test_names[0]\n",
    "\n",
    "display(attach)"
   ]
  },
  {
   "cell_type": "code",
   "execution_count": null,
   "metadata": {},
   "outputs": [],
   "source": []
  }
 ],
 "metadata": {
  "kernelspec": {
   "display_name": "Python 3",
   "language": "python",
   "name": "python3"
  },
  "language_info": {
   "codemirror_mode": {
    "name": "ipython",
    "version": 3
   },
   "file_extension": ".py",
   "mimetype": "text/x-python",
   "name": "python",
   "nbconvert_exporter": "python",
   "pygments_lexer": "ipython3",
   "version": "3.6.9-final"
  }
 },
 "nbformat": 4,
 "nbformat_minor": 4
}