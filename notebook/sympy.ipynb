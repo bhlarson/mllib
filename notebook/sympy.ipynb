{
 "cells": [
  {
   "cell_type": "code",
   "execution_count": 2,
   "metadata": {},
   "outputs": [],
   "source": [
    "from sympy import *\n",
    "import numpy as np\n",
    "import math\n",
    "from matplotlib import pyplot as plt\n",
    "x = symbols('x')"
   ]
  },
  {
   "cell_type": "code",
   "execution_count": 7,
   "metadata": {},
   "outputs": [
    {
     "data": {
      "text/latex": [
       "$\\displaystyle \\int e^{x} \\cos{\\left(x \\right)}\\, dx = \\frac{e^{x} \\sin{\\left(x \\right)}}{2} + \\frac{e^{x} \\cos{\\left(x \\right)}}{2}$"
      ],
      "text/plain": [
       "Eq(Integral(exp(x)*cos(x), x), exp(x)*sin(x)/2 + exp(x)*cos(x)/2)"
      ]
     },
     "execution_count": 7,
     "metadata": {},
     "output_type": "execute_result"
    }
   ],
   "source": [
    "a = Integral(cos(x)*exp(x), x)\n",
    "Eq(a, a.doit())"
   ]
  },
  {
   "cell_type": "code",
   "execution_count": 9,
   "metadata": {},
   "outputs": [
    {
     "data": {
      "text/latex": [
       "$\\displaystyle \\int \\frac{1}{\\sqrt{x^{2} - 9}}\\, dx = \\operatorname{acosh}{\\left(\\frac{x}{3} \\right)}$"
      ],
      "text/plain": [
       "Eq(Integral(1/sqrt(x**2 - 9), x), acosh(x/3))"
      ]
     },
     "execution_count": 9,
     "metadata": {},
     "output_type": "execute_result"
    }
   ],
   "source": [
    "a = Integral(1/sqrt(x**2-9), x)\n",
    "Eq(a, a.doit())"
   ]
  },
  {
   "cell_type": "code",
   "execution_count": 10,
   "metadata": {},
   "outputs": [
    {
     "data": {
      "text/latex": [
       "$\\displaystyle \\int \\frac{1}{\\sqrt{25 x^{2} + 2}}\\, dx = \\frac{\\operatorname{asinh}{\\left(\\frac{5 \\sqrt{2} x}{2} \\right)}}{5}$"
      ],
      "text/plain": [
       "Eq(Integral(1/sqrt(25*x**2 + 2), x), asinh(5*sqrt(2)*x/2)/5)"
      ]
     },
     "execution_count": 10,
     "metadata": {},
     "output_type": "execute_result"
    }
   ],
   "source": [
    "a = Integral(1/sqrt(25*x**2+2), x)\n",
    "Eq(a, a.doit())"
   ]
  },
  {
   "cell_type": "code",
   "execution_count": 22,
   "metadata": {},
   "outputs": [
    {
     "data": {
      "text/latex": [
       "$\\displaystyle \\int \\tan{\\left(x \\right)}\\, dx = - \\log{\\left(\\cos{\\left(x \\right)} \\right)}$"
      ],
      "text/plain": [
       "Eq(Integral(tan(x), x), -log(cos(x)))"
      ]
     },
     "execution_count": 22,
     "metadata": {},
     "output_type": "execute_result"
    }
   ],
   "source": [
    "a = Integral(tan(x), x)\n",
    "Eq(a, a.doit())"
   ]
  },
  {
   "cell_type": "code",
   "execution_count": 21,
   "metadata": {},
   "outputs": [
    {
     "data": {
      "text/latex": [
       "$\\displaystyle 3 \\tan{\\left(x \\right)} \\sec{\\left(x \\right)}$"
      ],
      "text/plain": [
       "3*tan(x)*sec(x)"
      ]
     },
     "execution_count": 21,
     "metadata": {},
     "output_type": "execute_result"
    }
   ],
   "source": [
    "diff(3*sec(x))"
   ]
  },
  {
   "cell_type": "code",
   "execution_count": 13,
   "metadata": {},
   "outputs": [
    {
     "data": {
      "text/latex": [
       "$\\displaystyle \\frac{1}{3 \\sqrt{\\frac{x^{2}}{9} - 1}}$"
      ],
      "text/plain": [
       "1/(3*sqrt(x**2/9 - 1))"
      ]
     },
     "execution_count": 13,
     "metadata": {},
     "output_type": "execute_result"
    }
   ],
   "source": [
    "diff(acosh(x/3), x)"
   ]
  },
  {
   "cell_type": "code",
   "execution_count": 15,
   "metadata": {},
   "outputs": [
    {
     "data": {
      "text/latex": [
       "$\\displaystyle 9 \\log{\\left(x \\right)} - 9 \\log{\\left(3 \\right)}$"
      ],
      "text/plain": [
       "9*log(x) - 9*log(3)"
      ]
     },
     "execution_count": 15,
     "metadata": {},
     "output_type": "execute_result"
    }
   ],
   "source": [
    "expand(9*ln(x/3), x)"
   ]
  },
  {
   "cell_type": "code",
   "execution_count": 16,
   "metadata": {},
   "outputs": [
    {
     "data": {
      "text/latex": [
       "$\\displaystyle -9.88751059801299$"
      ],
      "text/plain": [
       "-9.88751059801299"
      ]
     },
     "execution_count": 16,
     "metadata": {},
     "output_type": "execute_result"
    }
   ],
   "source": [
    "9*ln(1/3)"
   ]
  },
  {
   "cell_type": "code",
   "execution_count": 19,
   "metadata": {},
   "outputs": [
    {
     "data": {
      "text/latex": [
       "$\\displaystyle -3.29583686600433$"
      ],
      "text/plain": [
       "-3.29583686600433"
      ]
     },
     "execution_count": 19,
     "metadata": {},
     "output_type": "execute_result"
    }
   ],
   "source": [
    "3*ln(1/3)"
   ]
  },
  {
   "cell_type": "code",
   "execution_count": 20,
   "metadata": {},
   "outputs": [
    {
     "data": {
      "text/latex": [
       "$\\displaystyle -3.29583686600433$"
      ],
      "text/plain": [
       "-3.29583686600433"
      ]
     },
     "execution_count": 20,
     "metadata": {},
     "output_type": "execute_result"
    }
   ],
   "source": [
    "ln(1/27)"
   ]
  },
  {
   "cell_type": "code",
   "execution_count": 3,
   "metadata": {},
   "outputs": [
    {
     "data": {
      "text/latex": [
       "$\\displaystyle \\int \\frac{\\sqrt{x + 1}}{\\sqrt{1 - x}}\\, dx = \\begin{cases} - 2 i \\operatorname{acosh}{\\left(\\frac{\\sqrt{2} \\sqrt{x + 1}}{2} \\right)} - \\frac{i \\left(x + 1\\right)^{\\frac{3}{2}}}{\\sqrt{x - 1}} + \\frac{2 i \\sqrt{x + 1}}{\\sqrt{x - 1}} & \\text{for}\\: \\frac{\\left|{x + 1}\\right|}{2} > 1 \\\\2 \\operatorname{asin}{\\left(\\frac{\\sqrt{2} \\sqrt{x + 1}}{2} \\right)} + \\frac{\\left(x + 1\\right)^{\\frac{3}{2}}}{\\sqrt{1 - x}} - \\frac{2 \\sqrt{x + 1}}{\\sqrt{1 - x}} & \\text{otherwise} \\end{cases}$"
      ],
      "text/plain": [
       "Eq(Integral(sqrt(x + 1)/sqrt(1 - x), x), Piecewise((-2*I*acosh(sqrt(2)*sqrt(x + 1)/2) - I*(x + 1)**(3/2)/sqrt(x - 1) + 2*I*sqrt(x + 1)/sqrt(x - 1), Abs(x + 1)/2 > 1), (2*asin(sqrt(2)*sqrt(x + 1)/2) + (x + 1)**(3/2)/sqrt(1 - x) - 2*sqrt(x + 1)/sqrt(1 - x), True)))"
      ]
     },
     "execution_count": 3,
     "metadata": {},
     "output_type": "execute_result"
    }
   ],
   "source": [
    "a = Integral(sqrt(1+x)/sqrt(1-x), x)\n",
    "Eq(a, a.doit())"
   ]
  },
  {
   "cell_type": "code",
   "execution_count": 5,
   "metadata": {},
   "outputs": [
    {
     "data": {
      "text/latex": [
       "$\\displaystyle \\int \\frac{1}{\\sqrt{1 - x^{2}}}\\, dx = \\operatorname{asin}{\\left(x \\right)}$"
      ],
      "text/plain": [
       "Eq(Integral(1/sqrt(1 - x**2), x), asin(x))"
      ]
     },
     "execution_count": 5,
     "metadata": {},
     "output_type": "execute_result"
    }
   ],
   "source": [
    "a = Integral(1/sqrt(1-x**2), x)\n",
    "Eq(a, a.doit())"
   ]
  },
  {
   "cell_type": "code",
   "execution_count": 7,
   "metadata": {},
   "outputs": [
    {
     "data": {
      "text/latex": [
       "$\\displaystyle \\frac{1}{\\sqrt{1 - x^{2}}}$"
      ],
      "text/plain": [
       "1/sqrt(1 - x**2)"
      ]
     },
     "execution_count": 7,
     "metadata": {},
     "output_type": "execute_result"
    }
   ],
   "source": [
    "diff(asin(x), x)"
   ]
  },
  {
   "cell_type": "code",
   "execution_count": 8,
   "metadata": {},
   "outputs": [
    {
     "data": {
      "text/latex": [
       "$\\displaystyle \\int \\frac{1}{\\sqrt{x}}\\, dx = 2 \\sqrt{x}$"
      ],
      "text/plain": [
       "Eq(Integral(1/sqrt(x), x), 2*sqrt(x))"
      ]
     },
     "execution_count": 8,
     "metadata": {},
     "output_type": "execute_result"
    }
   ],
   "source": [
    "a = Integral(1/sqrt(x), x)\n",
    "Eq(a, a.doit())"
   ]
  },
  {
   "cell_type": "code",
   "execution_count": null,
   "metadata": {},
   "outputs": [],
   "source": []
  }
 ],
 "metadata": {
  "interpreter": {
   "hash": "31f2aee4e71d21fbe5cf8b01ff0e069b9275f58929596ceb00d14d90e3e16cd6"
  },
  "kernelspec": {
   "display_name": "Python 3.8.10 64-bit",
   "language": "python",
   "name": "python3"
  },
  "language_info": {
   "codemirror_mode": {
    "name": "ipython",
    "version": 3
   },
   "file_extension": ".py",
   "mimetype": "text/x-python",
   "name": "python",
   "nbconvert_exporter": "python",
   "pygments_lexer": "ipython3",
   "version": "3.8.10"
  },
  "orig_nbformat": 4
 },
 "nbformat": 4,
 "nbformat_minor": 2
}
