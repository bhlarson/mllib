{
 "cells": [
  {
   "cell_type": "code",
   "execution_count": 4,
   "id": "436a1791-3308-45b5-939f-c07d312cc222",
   "metadata": {},
   "outputs": [],
   "source": [
    "import glob\n",
    "import os\n",
    "import pprint\n",
    "import traceback\n",
    "\n",
    "import click\n",
    "import pandas as pd\n",
    "from tensorboard.backend.event_processing.event_accumulator import EventAccumulator"
   ]
  },
  {
   "cell_type": "code",
   "execution_count": 5,
   "id": "88bc793a-0a3c-4cbc-9f0b-17fb5faae1f6",
   "metadata": {},
   "outputs": [],
   "source": [
    "# Extraction function\n",
    "def tflog2pandas(path: str) -> pd.DataFrame:\n",
    "    \"\"\"convert single tensorflow log file to pandas DataFrame\n",
    "    Parameters\n",
    "    ----------\n",
    "    path : str\n",
    "        path to tensorflow log file\n",
    "    Returns\n",
    "    -------\n",
    "    pd.DataFrame\n",
    "        converted dataframe\n",
    "    \"\"\"\n",
    "    DEFAULT_SIZE_GUIDANCE = {\n",
    "        \"compressedHistograms\": 1,\n",
    "        \"images\": 1,\n",
    "        \"scalars\": 0,  # 0 means load all\n",
    "        \"histograms\": 1,\n",
    "    }\n",
    "    runlog_data = pd.DataFrame({\"metric\": [], \"value\": [], \"step\": []})\n",
    "    try:\n",
    "        event_acc = EventAccumulator(path, DEFAULT_SIZE_GUIDANCE)\n",
    "        event_acc.Reload()\n",
    "        tags = event_acc.Tags()[\"scalars\"]\n",
    "        for tag in tags:\n",
    "            event_list = event_acc.Scalars(tag)\n",
    "            values = list(map(lambda x: x.value, event_list))\n",
    "            step = list(map(lambda x: x.step, event_list))\n",
    "            r = {\"metric\": [tag] * len(step), \"value\": values, \"step\": step}\n",
    "            r = pd.DataFrame(r)\n",
    "            runlog_data = pd.concat([runlog_data, r])\n",
    "    # Dirty catch of DataLossError\n",
    "    except Exception:\n",
    "        print(\"Event file possibly corrupt: {}\".format(path))\n",
    "        traceback.print_exc()\n",
    "    return runlog_data"
   ]
  },
  {
   "cell_type": "code",
   "execution_count": 6,
   "id": "767d5764-60ac-452c-a943-47da9972c8f2",
   "metadata": {},
   "outputs": [],
   "source": [
    "def many_logs2pandas(event_paths):\n",
    "    all_logs = pd.DataFrame()\n",
    "    for path in event_paths:\n",
    "        log = tflog2pandas(path)\n",
    "        if log is not None:\n",
    "            if all_logs.shape[0] == 0:\n",
    "                all_logs = log\n",
    "            else:\n",
    "                all_logs = all_logs.append(log, ignore_index=True)\n",
    "    return all_logs"
   ]
  },
  {
   "cell_type": "code",
   "execution_count": 10,
   "id": "4f3cc52a-4788-4a29-af77-69c144b40ed3",
   "metadata": {},
   "outputs": [],
   "source": [
    "logdir_or_logfile='/data/tb_logs/crispcityscapes_20221019_163308_hiocnn_tb/crispcityscapes_20221019_163308_hiocnn0_train'"
   ]
  },
  {
   "cell_type": "code",
   "execution_count": 11,
   "id": "0b6bab55-d97c-4e1d-852e-9dfaae388a7b",
   "metadata": {},
   "outputs": [
    {
     "data": {
      "text/plain": [
       "['/data/tb_logs/crispcityscapes_20221019_163308_hiocnn_tb/crispcityscapes_20221019_163308_hiocnn0_train/events.out.tfevents.1666222646.cityscapescrisp-4w25s-4191966676.30.0']"
      ]
     },
     "execution_count": 11,
     "metadata": {},
     "output_type": "execute_result"
    }
   ],
   "source": [
    "pp = pprint.PrettyPrinter(indent=4)\n",
    "if os.path.isdir(logdir_or_logfile):\n",
    "    # Get all event* runs from logging_dir subdirectories\n",
    "    event_paths = glob.glob(os.path.join(logdir_or_logfile, \"event*\"))\n",
    "elif os.path.isfile(logdir_or_logfile):\n",
    "    event_paths = [logdir_or_logfile]\n",
    "else:\n",
    "    raise ValueError(\n",
    "        \"input argument {} has to be a file or a directory\".format(\n",
    "            logdir_or_logfile\n",
    "        )\n",
    "    )\n",
    "event_paths"
   ]
  },
  {
   "cell_type": "code",
   "execution_count": 12,
   "id": "1fb86922-f59c-458f-94be-5559e65c85f9",
   "metadata": {},
   "outputs": [],
   "source": [
    "all_logs = many_logs2pandas(event_paths)"
   ]
  },
  {
   "cell_type": "code",
   "execution_count": null,
   "id": "faedc541-a1c8-4fe8-986f-3336aabc0247",
   "metadata": {},
   "outputs": [],
   "source": []
  }
 ],
 "metadata": {
  "kernelspec": {
   "display_name": "Python 3 (ipykernel)",
   "language": "python",
   "name": "python3"
  },
  "language_info": {
   "codemirror_mode": {
    "name": "ipython",
    "version": 3
   },
   "file_extension": ".py",
   "mimetype": "text/x-python",
   "name": "python",
   "nbconvert_exporter": "python",
   "pygments_lexer": "ipython3",
   "version": "3.8.10"
  }
 },
 "nbformat": 4,
 "nbformat_minor": 5
}
