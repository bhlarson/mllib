{
 "cells": [
  {
   "cell_type": "markdown",
   "metadata": {},
   "source": [
    "# Segmentation Training Review\n",
    "\n",
    "Image segmentation converts an input image to a mask where each pixel value represents an object class at that pixel.  This notebook provides summary informaiton for image segmentation algorithms.  .  \n"
   ]
  },
  {
   "cell_type": "code",
   "execution_count": 1,
   "metadata": {
    "tags": []
   },
   "outputs": [],
   "source": [
    "import sys, os\n",
    "import json\n",
    "import argparse\n",
    "import pandas as pd\n",
    "import numpy as np\n",
    "from IPython.display import Markdown, display\n",
    "import ipywidgets as widgets\n",
    "import plotly\n",
    "import plotly.graph_objects as graph_obj\n",
    "import plotly.figure_factory as ff\n",
    "\n",
    "sys.path.insert(0, os.path.abspath('.'))\n",
    "sys.path.insert(0, os.path.abspath('..'))\n",
    "from pymlutil.s3 import s3store, Connect\n",
    "from pymlutil.jsonutil import WriteDictJson, ReadDictJson\n",
    "from segment.segmenttest import PrepareResults, PlotConfusion, UpdateConfusion, ClearOutput, PlotModels, UpdateModel"
   ]
  },
  {
   "cell_type": "code",
   "execution_count": 2,
   "metadata": {},
   "outputs": [],
   "source": [
    "output = widgets.Output()"
   ]
  },
  {
   "cell_type": "code",
   "execution_count": 3,
   "metadata": {},
   "outputs": [],
   "source": [
    "def parse_arguments():\n",
    "    parser = argparse.ArgumentParser(description='Process arguments')\n",
    "    parser.add_argument('-credentails', type=str, default='../creds.json', help='Credentials file.')\n",
    "\n",
    "    parser.add_argument('-model_type', type=str,  default='segmentation')\n",
    "    parser.add_argument('-test_results', type=str, default='test_results.json')   \n",
    "\n",
    "    args = parser.parse_args(\"\")\n",
    "    return args"
   ]
  },
  {
   "cell_type": "code",
   "execution_count": 4,
   "metadata": {},
   "outputs": [],
   "source": [
    "with output:\n",
    "    args = parse_arguments()\n",
    "    print('parse_arguments()={}'.format(args))"
   ]
  },
  {
   "cell_type": "code",
   "execution_count": 5,
   "metadata": {},
   "outputs": [],
   "source": [
    "with output:\n",
    "    s3, creds, s3def = Connect(args.credentails)\n",
    "    print('Connect()={}'.format(s3def))"
   ]
  },
  {
   "cell_type": "code",
   "execution_count": 6,
   "metadata": {},
   "outputs": [
    {
     "ename": "NameError",
     "evalue": "name 's3def' is not defined",
     "output_type": "error",
     "traceback": [
      "\u001b[0;31m---------------------------------------------------------------------------\u001b[0m",
      "\u001b[0;31mNameError\u001b[0m                                 Traceback (most recent call last)",
      "Input \u001b[0;32mIn [6]\u001b[0m, in \u001b[0;36m<module>\u001b[0;34m\u001b[0m\n\u001b[0;32m----> 1\u001b[0m test_path \u001b[38;5;241m=\u001b[39m \u001b[38;5;124m'\u001b[39m\u001b[38;5;132;01m{}\u001b[39;00m\u001b[38;5;124m/\u001b[39m\u001b[38;5;132;01m{}\u001b[39;00m\u001b[38;5;124m/\u001b[39m\u001b[38;5;132;01m{}\u001b[39;00m\u001b[38;5;124m'\u001b[39m\u001b[38;5;241m.\u001b[39mformat(\u001b[43ms3def\u001b[49m[\u001b[38;5;124m'\u001b[39m\u001b[38;5;124msets\u001b[39m\u001b[38;5;124m'\u001b[39m][\u001b[38;5;124m'\u001b[39m\u001b[38;5;124mtest\u001b[39m\u001b[38;5;124m'\u001b[39m][\u001b[38;5;124m'\u001b[39m\u001b[38;5;124mprefix\u001b[39m\u001b[38;5;124m'\u001b[39m], args\u001b[38;5;241m.\u001b[39mmodel_type, args\u001b[38;5;241m.\u001b[39mtest_results)\n\u001b[1;32m      2\u001b[0m test_data \u001b[38;5;241m=\u001b[39m s3\u001b[38;5;241m.\u001b[39mGetDict(s3def[\u001b[38;5;124m'\u001b[39m\u001b[38;5;124msets\u001b[39m\u001b[38;5;124m'\u001b[39m][\u001b[38;5;124m'\u001b[39m\u001b[38;5;124mtest\u001b[39m\u001b[38;5;124m'\u001b[39m][\u001b[38;5;124m'\u001b[39m\u001b[38;5;124mbucket\u001b[39m\u001b[38;5;124m'\u001b[39m], test_path)\n",
      "\u001b[0;31mNameError\u001b[0m: name 's3def' is not defined"
     ]
    }
   ],
   "source": [
    "test_path = '{}/{}/{}'.format(s3def['sets']['test']['prefix'], args.model_type, args.test_results)\n",
    "test_data = s3.GetDict(s3def['sets']['test']['bucket'], test_path)"
   ]
  },
  {
   "cell_type": "code",
   "execution_count": null,
   "metadata": {},
   "outputs": [],
   "source": [
    "test_names, overview, results, models  = PrepareResults(test_data)"
   ]
  },
  {
   "cell_type": "code",
   "execution_count": null,
   "metadata": {},
   "outputs": [],
   "source": [
    "confusion_display = graph_obj.FigureWidget()\n",
    "if len(test_data) > 0:\n",
    "    plot = PlotConfusion(test_data[0]['objects'], test_data[0]['results']['confusion'])\n",
    "    confusion_display = graph_obj.FigureWidget(plot)"
   ]
  },
  {
   "cell_type": "code",
   "execution_count": null,
   "metadata": {},
   "outputs": [],
   "source": [
    "test_names, overview, results, model_dict = PrepareResults(test_data)\n",
    "modelsplot = PlotModels(list(model_dict.values())[0])\n",
    "modelsplot.update_layout(autosize=False, width=800, height=600)\n",
    "models_display = graph_obj.FigureWidget(modelsplot)"
   ]
  },
  {
   "cell_type": "code",
   "execution_count": null,
   "metadata": {},
   "outputs": [],
   "source": [
    "models_select = widgets.Select(\n",
    "    options=model_dict.keys(),\n",
    "    description='Model Class:',\n",
    "    disabled=False,\n",
    "    rows=10,\n",
    "    layout=widgets.Layout(width=\"30%\"))"
   ]
  },
  {
   "cell_type": "code",
   "execution_count": null,
   "metadata": {},
   "outputs": [],
   "source": [
    "def ModelsSelect(change, plot, results):\n",
    "    UpdateModel(plot, model_dict[change.new])\n",
    "\n",
    "models_select.observe (lambda change:ModelsSelect(change, models_display, model_dict), names=\"value\")"
   ]
  },
  {
   "cell_type": "code",
   "execution_count": null,
   "metadata": {
    "tags": []
   },
   "outputs": [],
   "source": [
    "test_select = widgets.Select(\n",
    "    options=test_names,\n",
    "    description='Test:',\n",
    "    disabled=False,\n",
    "    rows=25,\n",
    "    layout=widgets.Layout(width=\"40%\"))"
   ]
  },
  {
   "cell_type": "code",
   "execution_count": null,
   "metadata": {},
   "outputs": [],
   "source": [
    "def Confusion(change, confusion, results):\n",
    "    UpdateConfusion(confusion, results[change.new]['confusion'])\n",
    "\n",
    "test_select.observe (lambda change:Confusion(change, confusion_display, results), names=\"value\")"
   ]
  },
  {
   "cell_type": "code",
   "execution_count": null,
   "metadata": {},
   "outputs": [],
   "source": [
    "clear_output = widgets.Button(description='Clear Output')\n",
    "clear_output.on_click(lambda b: ClearOutput(b, output=output))"
   ]
  },
  {
   "cell_type": "markdown",
   "metadata": {},
   "source": [
    "## Segmentation Summary Table\n",
    "This table displays the validation dataset test results for a specific model.  \n",
    "- \"test images\" is the number of images in the validation data set\n",
    "- \"mean IoU\" is the average of the per-class intersection over union defined in [\"The PASCAL Visual Object Classes (VOC) Challenge\" equation 4](https://homepages.inf.ed.ac.uk/ckiw/postscript/ijcv_voc09.pdf) \n",
    "- \"inference time\" is the average compute time per image for the CNN execution and argmax opration to produce a segmentation image."
   ]
  },
  {
   "cell_type": "code",
   "execution_count": null,
   "metadata": {
    "tags": []
   },
   "outputs": [],
   "source": [
    "pd.set_option('display.max_rows', 500)\n",
    "display(pd.DataFrame(overview).T)"
   ]
  },
  {
   "cell_type": "code",
   "execution_count": null,
   "metadata": {},
   "outputs": [],
   "source": [
    "## Model Confusion"
   ]
  },
  {
   "cell_type": "code",
   "execution_count": null,
   "metadata": {
    "tags": []
   },
   "outputs": [],
   "source": [
    "display(widgets.HBox([test_select, confusion_display]))\n",
    "\n",
    "\n",
    "# Initialize widgits after callbacks are defined\n",
    "if len(test_names) > 0:\n",
    "    test_select.options = test_names\n",
    "    test_select.value = test_names[0]"
   ]
  },
  {
   "cell_type": "markdown",
   "metadata": {},
   "source": [
    "## Segmentation Models Plot\n",
    "The \"Segmentaiton Models Plot\" plots the per class and mean IoU through the training sequence of a sepcific model type and class.  Comparing these plot, I evalute the potential improvement of a specific type of model.  For example, if the IoU continue to improve with training, I'll continue to train the model.  If the per-class IoU converges with additonal training, it may not be neccessary to manipulate the class balance.  Does one model convergence more quickly or to a higher value than another?"
   ]
  },
  {
   "cell_type": "code",
   "execution_count": null,
   "metadata": {},
   "outputs": [],
   "source": [
    "display(widgets.HBox([models_select, models_display]))"
   ]
  },
  {
   "cell_type": "markdown",
   "metadata": {},
   "source": [
    "## Runtime Output Log"
   ]
  },
  {
   "cell_type": "code",
   "execution_count": null,
   "metadata": {},
   "outputs": [],
   "source": [
    "display(widgets.VBox([clear_output, output]))"
   ]
  }
 ],
 "metadata": {
  "kernelspec": {
   "display_name": "Python 3 (ipykernel)",
   "language": "python",
   "name": "python3"
  },
  "language_info": {
   "codemirror_mode": {
    "name": "ipython",
    "version": 3
   },
   "file_extension": ".py",
   "mimetype": "text/x-python",
   "name": "python",
   "nbconvert_exporter": "python",
   "pygments_lexer": "ipython3",
   "version": "3.8.10"
  },
  "vscode": {
   "interpreter": {
    "hash": "e7370f93d1d0cde622a1f8e1c04877d8463912d04d973331ad4851f04de6915a"
   }
  }
 },
 "nbformat": 4,
 "nbformat_minor": 4
}
