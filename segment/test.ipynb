{
 "cells": [
  {
   "cell_type": "code",
   "execution_count": 16,
   "metadata": {},
   "outputs": [],
   "source": [
    "import sys, os\n",
    "import json\n",
    "import pandas as pd\n",
    "import numpy as np\n",
    "from IPython.display import Markdown, display\n",
    "import ipywidgets as widgets\n",
    "import plotly\n",
    "import plotly.graph_objects as graph_obj\n",
    "import plotly.figure_factory as ff\n",
    "\n",
    "sys.path.append(os.path.join(os.getcwd(),'../utils'))\n",
    "from s3 import s3store\n",
    "from jsonutil import WriteDictJson, ReadDictJson"
   ]
  },
  {
   "cell_type": "code",
   "execution_count": 17,
   "metadata": {},
   "outputs": [],
   "source": [
    "output = widgets.Output()\n",
    "clear_output = widgets.Button(description='Clear Output')\n",
    "\n",
    "test_select = widgets.Select(\n",
    "    options=[],\n",
    "    description='Test:',\n",
    "    disabled=False,\n",
    "    #rows=25,\n",
    ")"
   ]
  },
  {
   "cell_type": "code",
   "execution_count": 18,
   "metadata": {},
   "outputs": [],
   "source": [
    "trainingset='2021-02-22-14-17-19-cocoseg'"
   ]
  },
  {
   "cell_type": "code",
   "execution_count": 19,
   "metadata": {},
   "outputs": [
    {
     "output_type": "display_data",
     "data": {
      "text/plain": "                    date                                              model  \\\n0   03/25/2021, 18:09:50   model/2021-02-24-10-28-35-cocoseg/model-fp16.trt   \n1   03/25/2021, 11:17:47  model/2021-02-24-10-28-35-cocoseg/jetson-fp16.trt   \n2   03/26/2021, 06:49:37  model/2021-02-24-10-28-35-cocoseg/jetson-fp16.trt   \n3   03/26/2021, 06:59:26                        2021-02-24-10-28-35-cocoseg   \n4   03/26/2021, 07:22:36                        2021-02-24-10-28-35-cocoseg   \n5   03/26/2021, 07:32:26                        2021-02-24-10-28-35-cocoseg   \n6   03/26/2021, 08:01:04  model/2021-02-24-10-28-35-cocoseg/jetson-fp16.trt   \n7   03/26/2021, 08:47:43                        2021-02-24-10-28-35-cocoseg   \n8   03/26/2021, 08:52:01                        2021-02-24-10-28-35-cocoseg   \n9   03/26/2021, 09:04:05                                                NaN   \n10  03/26/2021, 09:15:01                                                NaN   \n11  03/26/2021, 16:34:28                                                NaN   \n12  03/26/2021, 09:36:26                                                NaN   \n13  03/26/2021, 16:43:35                                                NaN   \n\n    accuracy                                   class_similarity  similarity  \\\n0   0.947675  {'0': {'intersection': 0, 'union': 0, 'similar...    0.670111   \n1   0.945348  {'0': {'intersection': 0, 'union': 0, 'similar...    0.669143   \n2   0.941561  {'0': {'intersection': 0, 'union': 0, 'similar...    0.668516   \n3   0.947169  {'0': {'intersection': 0, 'union': 0, 'similar...    0.666395   \n4   0.947338  {'0': {'intersection': 0, 'union': 0, 'similar...    0.668303   \n5   0.947462  {'0': {'intersection': 0, 'union': 0, 'similar...    0.667802   \n6   0.945958  {'0': {'intersection': 0, 'union': 0, 'similar...    0.667833   \n7   0.983599  {'0': {'intersection': 0, 'union': 0, 'similar...    0.749055   \n8   0.982085  {'0': {'intersection': 0, 'union': 0, 'similar...    0.718719   \n9   0.983171  {'0': {'intersection': 0, 'union': 0, 'similar...    0.772748   \n10  0.947727  {'0': {'intersection': 0, 'union': 0, 'similar...    0.668792   \n11  0.947043  {'0': {'intersection': 0, 'union': 0, 'similar...    0.666755   \n12  0.946313  {'0': {'intersection': 0, 'union': 0, 'similar...    0.668496   \n13  0.946918  {'0': {'intersection': 0, 'union': 0, 'similar...    0.667027   \n\n                                            confusion  images  image time  \\\n0   [[1019378753, 9697879, 4287449, 2896630], [190...    5000    0.009090   \n1   [[1019841478, 9798289, 4154066, 2873198], [191...    5000    0.030227   \n2   [[1019086645, 9746681, 4263134, 2923257], [192...    5000    0.047822   \n3   [[1019804297, 9893551, 4118563, 2840786], [191...    5000    0.076143   \n4   [[1019961488, 9639005, 4178823, 2874740], [191...    5000    0.075768   \n5   [[1019856431, 9680840, 4071418, 2860566], [193...    5000    0.076644   \n6   [[1019204278, 9753983, 4250725, 2953818], [193...    5000    0.046916   \n7   [[1094598, 4410, 661, 0], [10297, 36701, 1, 0]...       5    0.766098   \n8   [[1087817, 3616, 1358, 0], [10721, 40824, 5, 0...       5    0.605236   \n9   [[1084270, 2999, 1234, 0], [10142, 38426, 3, 0...       5    0.618589   \n10  [[1019581295, 9791438, 4141683, 2833470], [191...    5000    0.076870   \n11  [[1019499388, 9847918, 4244507, 2860289], [193...    5000    0.155568   \n12  [[1019599121, 9807841, 4114742, 2948725], [192...    5000    0.046787   \n13  [[1020037515, 9637675, 4112049, 2847950], [194...    5000    0.080520   \n\n    batch size                test store test bucket  \\\n0            1  ipc.larson.myds.me:31994       mllib   \n1            1       192.168.0.155:31994       mllib   \n2            1       192.168.0.155:31994       mllib   \n3            1  ipc.larson.myds.me:31994       mllib   \n4            1  ipc.larson.myds.me:31994       mllib   \n5            1  ipc.larson.myds.me:31994       mllib   \n6            1       192.168.0.155:31994       mllib   \n7            1                       NaN       mllib   \n8            1                       NaN       mllib   \n9            1                       NaN       mllib   \n10           1                       NaN       mllib   \n11           1                       NaN       mllib   \n12           1                       NaN       mllib   \n13           1                       NaN       mllib   \n\n               store address inference host  \\\n0                        NaN            NaN   \n1                        NaN            NaN   \n2                        NaN            NaN   \n3                        NaN            NaN   \n4                        NaN            NaN   \n5                        NaN            NaN   \n6                        NaN            NaN   \n7   ipc.larson.myds.me:31994   e55b00f08902   \n8   ipc.larson.myds.me:31994            NaN   \n9   ipc.larson.myds.me:31994            NaN   \n10  ipc.larson.myds.me:31994            NaN   \n11  ipc.larson.myds.me:31994            NaN   \n12       192.168.0.155:31994            NaN   \n13  ipc.larson.myds.me:31994            NaN   \n\n                                             platform  \\\n0                                                 NaN   \n1                                                 NaN   \n2                                                 NaN   \n3                                                 NaN   \n4                                                 NaN   \n5                                                 NaN   \n6                                                 NaN   \n7                                                 NaN   \n8   Linux-4.15.0-137-generic-x86_64-with-Ubuntu-18...   \n9   Linux-4.15.0-137-generic-x86_64-with-Ubuntu-18...   \n10  Linux-4.15.0-137-generic-x86_64-with-Ubuntu-18...   \n11     Linux-4.15.0-137-generic-x86_64-with-glibc2.29   \n12  Linux-4.9.201-tegra-aarch64-with-Ubuntu-18.04-...   \n13     Linux-4.15.0-137-generic-x86_64-with-glibc2.29   \n\n                                    name  \\\n0                                    NaN   \n1                                    NaN   \n2                                    NaN   \n3                                    NaN   \n4                                    NaN   \n5                                    NaN   \n6                                    NaN   \n7                                    NaN   \n8                                    NaN   \n9               Test Tesorflow Inference   \n10              Test tesorflow inference   \n11                   Test Onnx Inference   \n12  Test TensorRT inference on Jetson NX   \n13               Test TensorRT inference   \n\n                                     description  \n0                                            NaN  \n1                                            NaN  \n2                                            NaN  \n3                                            NaN  \n4                                            NaN  \n5                                            NaN  \n6                                            NaN  \n7                                            NaN  \n8                                            NaN  \n9                        Image segmentaiton test  \n10  Tensorflow image segmentation inference test  \n11        Onnx image segmentation inference test  \n12  Tensorflow image segmentation inference test  \n13    TensorRT image segmentation inference test  ",
      "text/html": "<div>\n<style scoped>\n    .dataframe tbody tr th:only-of-type {\n        vertical-align: middle;\n    }\n\n    .dataframe tbody tr th {\n        vertical-align: top;\n    }\n\n    .dataframe thead th {\n        text-align: right;\n    }\n</style>\n<table border=\"1\" class=\"dataframe\">\n  <thead>\n    <tr style=\"text-align: right;\">\n      <th></th>\n      <th>date</th>\n      <th>model</th>\n      <th>accuracy</th>\n      <th>class_similarity</th>\n      <th>similarity</th>\n      <th>confusion</th>\n      <th>images</th>\n      <th>image time</th>\n      <th>batch size</th>\n      <th>test store</th>\n      <th>test bucket</th>\n      <th>store address</th>\n      <th>inference host</th>\n      <th>platform</th>\n      <th>name</th>\n      <th>description</th>\n    </tr>\n  </thead>\n  <tbody>\n    <tr>\n      <th>0</th>\n      <td>03/25/2021, 18:09:50</td>\n      <td>model/2021-02-24-10-28-35-cocoseg/model-fp16.trt</td>\n      <td>0.947675</td>\n      <td>{'0': {'intersection': 0, 'union': 0, 'similar...</td>\n      <td>0.670111</td>\n      <td>[[1019378753, 9697879, 4287449, 2896630], [190...</td>\n      <td>5000</td>\n      <td>0.009090</td>\n      <td>1</td>\n      <td>ipc.larson.myds.me:31994</td>\n      <td>mllib</td>\n      <td>NaN</td>\n      <td>NaN</td>\n      <td>NaN</td>\n      <td>NaN</td>\n      <td>NaN</td>\n    </tr>\n    <tr>\n      <th>1</th>\n      <td>03/25/2021, 11:17:47</td>\n      <td>model/2021-02-24-10-28-35-cocoseg/jetson-fp16.trt</td>\n      <td>0.945348</td>\n      <td>{'0': {'intersection': 0, 'union': 0, 'similar...</td>\n      <td>0.669143</td>\n      <td>[[1019841478, 9798289, 4154066, 2873198], [191...</td>\n      <td>5000</td>\n      <td>0.030227</td>\n      <td>1</td>\n      <td>192.168.0.155:31994</td>\n      <td>mllib</td>\n      <td>NaN</td>\n      <td>NaN</td>\n      <td>NaN</td>\n      <td>NaN</td>\n      <td>NaN</td>\n    </tr>\n    <tr>\n      <th>2</th>\n      <td>03/26/2021, 06:49:37</td>\n      <td>model/2021-02-24-10-28-35-cocoseg/jetson-fp16.trt</td>\n      <td>0.941561</td>\n      <td>{'0': {'intersection': 0, 'union': 0, 'similar...</td>\n      <td>0.668516</td>\n      <td>[[1019086645, 9746681, 4263134, 2923257], [192...</td>\n      <td>5000</td>\n      <td>0.047822</td>\n      <td>1</td>\n      <td>192.168.0.155:31994</td>\n      <td>mllib</td>\n      <td>NaN</td>\n      <td>NaN</td>\n      <td>NaN</td>\n      <td>NaN</td>\n      <td>NaN</td>\n    </tr>\n    <tr>\n      <th>3</th>\n      <td>03/26/2021, 06:59:26</td>\n      <td>2021-02-24-10-28-35-cocoseg</td>\n      <td>0.947169</td>\n      <td>{'0': {'intersection': 0, 'union': 0, 'similar...</td>\n      <td>0.666395</td>\n      <td>[[1019804297, 9893551, 4118563, 2840786], [191...</td>\n      <td>5000</td>\n      <td>0.076143</td>\n      <td>1</td>\n      <td>ipc.larson.myds.me:31994</td>\n      <td>mllib</td>\n      <td>NaN</td>\n      <td>NaN</td>\n      <td>NaN</td>\n      <td>NaN</td>\n      <td>NaN</td>\n    </tr>\n    <tr>\n      <th>4</th>\n      <td>03/26/2021, 07:22:36</td>\n      <td>2021-02-24-10-28-35-cocoseg</td>\n      <td>0.947338</td>\n      <td>{'0': {'intersection': 0, 'union': 0, 'similar...</td>\n      <td>0.668303</td>\n      <td>[[1019961488, 9639005, 4178823, 2874740], [191...</td>\n      <td>5000</td>\n      <td>0.075768</td>\n      <td>1</td>\n      <td>ipc.larson.myds.me:31994</td>\n      <td>mllib</td>\n      <td>NaN</td>\n      <td>NaN</td>\n      <td>NaN</td>\n      <td>NaN</td>\n      <td>NaN</td>\n    </tr>\n    <tr>\n      <th>5</th>\n      <td>03/26/2021, 07:32:26</td>\n      <td>2021-02-24-10-28-35-cocoseg</td>\n      <td>0.947462</td>\n      <td>{'0': {'intersection': 0, 'union': 0, 'similar...</td>\n      <td>0.667802</td>\n      <td>[[1019856431, 9680840, 4071418, 2860566], [193...</td>\n      <td>5000</td>\n      <td>0.076644</td>\n      <td>1</td>\n      <td>ipc.larson.myds.me:31994</td>\n      <td>mllib</td>\n      <td>NaN</td>\n      <td>NaN</td>\n      <td>NaN</td>\n      <td>NaN</td>\n      <td>NaN</td>\n    </tr>\n    <tr>\n      <th>6</th>\n      <td>03/26/2021, 08:01:04</td>\n      <td>model/2021-02-24-10-28-35-cocoseg/jetson-fp16.trt</td>\n      <td>0.945958</td>\n      <td>{'0': {'intersection': 0, 'union': 0, 'similar...</td>\n      <td>0.667833</td>\n      <td>[[1019204278, 9753983, 4250725, 2953818], [193...</td>\n      <td>5000</td>\n      <td>0.046916</td>\n      <td>1</td>\n      <td>192.168.0.155:31994</td>\n      <td>mllib</td>\n      <td>NaN</td>\n      <td>NaN</td>\n      <td>NaN</td>\n      <td>NaN</td>\n      <td>NaN</td>\n    </tr>\n    <tr>\n      <th>7</th>\n      <td>03/26/2021, 08:47:43</td>\n      <td>2021-02-24-10-28-35-cocoseg</td>\n      <td>0.983599</td>\n      <td>{'0': {'intersection': 0, 'union': 0, 'similar...</td>\n      <td>0.749055</td>\n      <td>[[1094598, 4410, 661, 0], [10297, 36701, 1, 0]...</td>\n      <td>5</td>\n      <td>0.766098</td>\n      <td>1</td>\n      <td>NaN</td>\n      <td>mllib</td>\n      <td>ipc.larson.myds.me:31994</td>\n      <td>e55b00f08902</td>\n      <td>NaN</td>\n      <td>NaN</td>\n      <td>NaN</td>\n    </tr>\n    <tr>\n      <th>8</th>\n      <td>03/26/2021, 08:52:01</td>\n      <td>2021-02-24-10-28-35-cocoseg</td>\n      <td>0.982085</td>\n      <td>{'0': {'intersection': 0, 'union': 0, 'similar...</td>\n      <td>0.718719</td>\n      <td>[[1087817, 3616, 1358, 0], [10721, 40824, 5, 0...</td>\n      <td>5</td>\n      <td>0.605236</td>\n      <td>1</td>\n      <td>NaN</td>\n      <td>mllib</td>\n      <td>ipc.larson.myds.me:31994</td>\n      <td>NaN</td>\n      <td>Linux-4.15.0-137-generic-x86_64-with-Ubuntu-18...</td>\n      <td>NaN</td>\n      <td>NaN</td>\n    </tr>\n    <tr>\n      <th>9</th>\n      <td>03/26/2021, 09:04:05</td>\n      <td>NaN</td>\n      <td>0.983171</td>\n      <td>{'0': {'intersection': 0, 'union': 0, 'similar...</td>\n      <td>0.772748</td>\n      <td>[[1084270, 2999, 1234, 0], [10142, 38426, 3, 0...</td>\n      <td>5</td>\n      <td>0.618589</td>\n      <td>1</td>\n      <td>NaN</td>\n      <td>mllib</td>\n      <td>ipc.larson.myds.me:31994</td>\n      <td>NaN</td>\n      <td>Linux-4.15.0-137-generic-x86_64-with-Ubuntu-18...</td>\n      <td>Test Tesorflow Inference</td>\n      <td>Image segmentaiton test</td>\n    </tr>\n    <tr>\n      <th>10</th>\n      <td>03/26/2021, 09:15:01</td>\n      <td>NaN</td>\n      <td>0.947727</td>\n      <td>{'0': {'intersection': 0, 'union': 0, 'similar...</td>\n      <td>0.668792</td>\n      <td>[[1019581295, 9791438, 4141683, 2833470], [191...</td>\n      <td>5000</td>\n      <td>0.076870</td>\n      <td>1</td>\n      <td>NaN</td>\n      <td>mllib</td>\n      <td>ipc.larson.myds.me:31994</td>\n      <td>NaN</td>\n      <td>Linux-4.15.0-137-generic-x86_64-with-Ubuntu-18...</td>\n      <td>Test tesorflow inference</td>\n      <td>Tensorflow image segmentation inference test</td>\n    </tr>\n    <tr>\n      <th>11</th>\n      <td>03/26/2021, 16:34:28</td>\n      <td>NaN</td>\n      <td>0.947043</td>\n      <td>{'0': {'intersection': 0, 'union': 0, 'similar...</td>\n      <td>0.666755</td>\n      <td>[[1019499388, 9847918, 4244507, 2860289], [193...</td>\n      <td>5000</td>\n      <td>0.155568</td>\n      <td>1</td>\n      <td>NaN</td>\n      <td>mllib</td>\n      <td>ipc.larson.myds.me:31994</td>\n      <td>NaN</td>\n      <td>Linux-4.15.0-137-generic-x86_64-with-glibc2.29</td>\n      <td>Test Onnx Inference</td>\n      <td>Onnx image segmentation inference test</td>\n    </tr>\n    <tr>\n      <th>12</th>\n      <td>03/26/2021, 09:36:26</td>\n      <td>NaN</td>\n      <td>0.946313</td>\n      <td>{'0': {'intersection': 0, 'union': 0, 'similar...</td>\n      <td>0.668496</td>\n      <td>[[1019599121, 9807841, 4114742, 2948725], [192...</td>\n      <td>5000</td>\n      <td>0.046787</td>\n      <td>1</td>\n      <td>NaN</td>\n      <td>mllib</td>\n      <td>192.168.0.155:31994</td>\n      <td>NaN</td>\n      <td>Linux-4.9.201-tegra-aarch64-with-Ubuntu-18.04-...</td>\n      <td>Test TensorRT inference on Jetson NX</td>\n      <td>Tensorflow image segmentation inference test</td>\n    </tr>\n    <tr>\n      <th>13</th>\n      <td>03/26/2021, 16:43:35</td>\n      <td>NaN</td>\n      <td>0.946918</td>\n      <td>{'0': {'intersection': 0, 'union': 0, 'similar...</td>\n      <td>0.667027</td>\n      <td>[[1020037515, 9637675, 4112049, 2847950], [194...</td>\n      <td>5000</td>\n      <td>0.080520</td>\n      <td>1</td>\n      <td>NaN</td>\n      <td>mllib</td>\n      <td>ipc.larson.myds.me:31994</td>\n      <td>NaN</td>\n      <td>Linux-4.15.0-137-generic-x86_64-with-glibc2.29</td>\n      <td>Test TensorRT inference</td>\n      <td>TensorRT image segmentation inference test</td>\n    </tr>\n  </tbody>\n</table>\n</div>"
     },
     "metadata": {}
    }
   ],
   "source": [
    "creds = ReadDictJson('../creds.json')\n",
    "if not creds:\n",
    "    output.append_stdout('Failed to load credentials file {}\\n'.format(args.credentails))\n",
    "\n",
    "s3def = creds['s3'][0]\n",
    "s3 = s3store(s3def['address'], s3def['access key'], s3def['secret key'], cert_verify=False)\n",
    "validation = s3def['sets']['trainingset']\n",
    "\n",
    "test_obj = '{}/{}/tests.json'.format(validation['prefix'], trainingset)\n",
    "desc_obj = '{}/{}/description.json'.format(validation['prefix'], trainingset)\n",
    "testjson = s3.GetDict(validation['bucket'], test_obj)\n",
    "descjson = s3.GetDict(validation['bucket'], desc_obj)\n",
    "\n",
    "tests = pd.DataFrame(testjson)\n",
    "display(tests)"
   ]
  },
  {
   "cell_type": "code",
   "execution_count": 22,
   "metadata": {},
   "outputs": [
    {
     "output_type": "display_data",
     "data": {
      "text/plain": "                                                    images  accuracy  \\\nmodel/2021-02-24-10-28-35-cocoseg/model-fp16.tr...  5000.0  0.947675   \nmodel/2021-02-24-10-28-35-cocoseg/jetson-fp16.t...  5000.0  0.945348   \nmodel/2021-02-24-10-28-35-cocoseg/jetson-fp16.t...  5000.0  0.941561   \n2021-02-24-10-28-35-cocoseg 03/26/2021, 06:59:26    5000.0  0.947169   \n2021-02-24-10-28-35-cocoseg 03/26/2021, 07:22:36    5000.0  0.947338   \n2021-02-24-10-28-35-cocoseg 03/26/2021, 07:32:26    5000.0  0.947462   \nmodel/2021-02-24-10-28-35-cocoseg/jetson-fp16.t...  5000.0  0.945958   \n2021-02-24-10-28-35-cocoseg 03/26/2021, 08:47:43       5.0  0.983599   \n2021-02-24-10-28-35-cocoseg 03/26/2021, 08:52:01       5.0  0.982085   \nTest Tesorflow Inference 03/26/2021, 09:04:05          5.0  0.983171   \nTest tesorflow inference 03/26/2021, 09:15:01       5000.0  0.947727   \nTest Onnx Inference 03/26/2021, 16:34:28            5000.0  0.947043   \nTest TensorRT inference on Jetson NX 03/26/2021...  5000.0  0.946313   \nTest TensorRT inference 03/26/2021, 16:43:35        5000.0  0.946918   \n\n                                                    similarity  inference time  \nmodel/2021-02-24-10-28-35-cocoseg/model-fp16.tr...    0.670111        0.009090  \nmodel/2021-02-24-10-28-35-cocoseg/jetson-fp16.t...    0.669143        0.030227  \nmodel/2021-02-24-10-28-35-cocoseg/jetson-fp16.t...    0.668516        0.047822  \n2021-02-24-10-28-35-cocoseg 03/26/2021, 06:59:26      0.666395        0.076143  \n2021-02-24-10-28-35-cocoseg 03/26/2021, 07:22:36      0.668303        0.075768  \n2021-02-24-10-28-35-cocoseg 03/26/2021, 07:32:26      0.667802        0.076644  \nmodel/2021-02-24-10-28-35-cocoseg/jetson-fp16.t...    0.667833        0.046916  \n2021-02-24-10-28-35-cocoseg 03/26/2021, 08:47:43      0.749055        0.766098  \n2021-02-24-10-28-35-cocoseg 03/26/2021, 08:52:01      0.718719        0.605236  \nTest Tesorflow Inference 03/26/2021, 09:04:05         0.772748        0.618589  \nTest tesorflow inference 03/26/2021, 09:15:01         0.668792        0.076870  \nTest Onnx Inference 03/26/2021, 16:34:28              0.666755        0.155568  \nTest TensorRT inference on Jetson NX 03/26/2021...    0.668496        0.046787  \nTest TensorRT inference 03/26/2021, 16:43:35          0.667027        0.080520  ",
      "text/html": "<div>\n<style scoped>\n    .dataframe tbody tr th:only-of-type {\n        vertical-align: middle;\n    }\n\n    .dataframe tbody tr th {\n        vertical-align: top;\n    }\n\n    .dataframe thead th {\n        text-align: right;\n    }\n</style>\n<table border=\"1\" class=\"dataframe\">\n  <thead>\n    <tr style=\"text-align: right;\">\n      <th></th>\n      <th>images</th>\n      <th>accuracy</th>\n      <th>similarity</th>\n      <th>inference time</th>\n    </tr>\n  </thead>\n  <tbody>\n    <tr>\n      <th>model/2021-02-24-10-28-35-cocoseg/model-fp16.trt 03/25/2021, 18:09:50</th>\n      <td>5000.0</td>\n      <td>0.947675</td>\n      <td>0.670111</td>\n      <td>0.009090</td>\n    </tr>\n    <tr>\n      <th>model/2021-02-24-10-28-35-cocoseg/jetson-fp16.trt 03/25/2021, 11:17:47</th>\n      <td>5000.0</td>\n      <td>0.945348</td>\n      <td>0.669143</td>\n      <td>0.030227</td>\n    </tr>\n    <tr>\n      <th>model/2021-02-24-10-28-35-cocoseg/jetson-fp16.trt 03/26/2021, 06:49:37</th>\n      <td>5000.0</td>\n      <td>0.941561</td>\n      <td>0.668516</td>\n      <td>0.047822</td>\n    </tr>\n    <tr>\n      <th>2021-02-24-10-28-35-cocoseg 03/26/2021, 06:59:26</th>\n      <td>5000.0</td>\n      <td>0.947169</td>\n      <td>0.666395</td>\n      <td>0.076143</td>\n    </tr>\n    <tr>\n      <th>2021-02-24-10-28-35-cocoseg 03/26/2021, 07:22:36</th>\n      <td>5000.0</td>\n      <td>0.947338</td>\n      <td>0.668303</td>\n      <td>0.075768</td>\n    </tr>\n    <tr>\n      <th>2021-02-24-10-28-35-cocoseg 03/26/2021, 07:32:26</th>\n      <td>5000.0</td>\n      <td>0.947462</td>\n      <td>0.667802</td>\n      <td>0.076644</td>\n    </tr>\n    <tr>\n      <th>model/2021-02-24-10-28-35-cocoseg/jetson-fp16.trt 03/26/2021, 08:01:04</th>\n      <td>5000.0</td>\n      <td>0.945958</td>\n      <td>0.667833</td>\n      <td>0.046916</td>\n    </tr>\n    <tr>\n      <th>2021-02-24-10-28-35-cocoseg 03/26/2021, 08:47:43</th>\n      <td>5.0</td>\n      <td>0.983599</td>\n      <td>0.749055</td>\n      <td>0.766098</td>\n    </tr>\n    <tr>\n      <th>2021-02-24-10-28-35-cocoseg 03/26/2021, 08:52:01</th>\n      <td>5.0</td>\n      <td>0.982085</td>\n      <td>0.718719</td>\n      <td>0.605236</td>\n    </tr>\n    <tr>\n      <th>Test Tesorflow Inference 03/26/2021, 09:04:05</th>\n      <td>5.0</td>\n      <td>0.983171</td>\n      <td>0.772748</td>\n      <td>0.618589</td>\n    </tr>\n    <tr>\n      <th>Test tesorflow inference 03/26/2021, 09:15:01</th>\n      <td>5000.0</td>\n      <td>0.947727</td>\n      <td>0.668792</td>\n      <td>0.076870</td>\n    </tr>\n    <tr>\n      <th>Test Onnx Inference 03/26/2021, 16:34:28</th>\n      <td>5000.0</td>\n      <td>0.947043</td>\n      <td>0.666755</td>\n      <td>0.155568</td>\n    </tr>\n    <tr>\n      <th>Test TensorRT inference on Jetson NX 03/26/2021, 09:36:26</th>\n      <td>5000.0</td>\n      <td>0.946313</td>\n      <td>0.668496</td>\n      <td>0.046787</td>\n    </tr>\n    <tr>\n      <th>Test TensorRT inference 03/26/2021, 16:43:35</th>\n      <td>5000.0</td>\n      <td>0.946918</td>\n      <td>0.667027</td>\n      <td>0.080520</td>\n    </tr>\n  </tbody>\n</table>\n</div>"
     },
     "metadata": {}
    }
   ],
   "source": [
    "iClasses = {}\n",
    "classNames = [''] * descjson['classes']['classes']\n",
    "for clasdesc in descjson['classes']['objects']:\n",
    "    if clasdesc['trainId'] not in iClasses.keys():\n",
    "        classNames[clasdesc['trainId']] = clasdesc['category']\n",
    "        if not (clasdesc['category'] == 'void'):\n",
    "            iClasses[clasdesc['trainId']] = clasdesc\n",
    "\n",
    "overview = {}\n",
    "results = {}\n",
    "confusion = {}\n",
    "test_names = []\n",
    "    \n",
    "for test in testjson:\n",
    "    if 'name' in test:\n",
    "        name = '{} {}'.format(test['name'], test['date'])\n",
    "    elif 'model' in test:\n",
    "        name = '{} {}'.format(test['model'], test['date'])\n",
    "    else: \n",
    "        name = '{}'.format(test['date'])\n",
    "    test_names.append(name)\n",
    "    \n",
    "    test_overview = {'images':test['images'],'accuracy':test['accuracy'],'similarity':test['similarity'], 'inference time':test['image time']}\n",
    "    overview[name]=test_overview\n",
    "    \n",
    "    similarity = {}\n",
    "    for key in iClasses:\n",
    "        res = test['class_similarity'][str(key)]\n",
    "        if res:\n",
    "            similarity[iClasses[key]['category']] = test['class_similarity'][str(key)]['similarity']\n",
    "\n",
    "    results[name] = {'similarity':similarity, 'confusion':test['confusion']}\n",
    "    \n",
    "display(pd.DataFrame(overview).T)"
   ]
  },
  {
   "cell_type": "code",
   "execution_count": 22,
   "metadata": {},
   "outputs": [],
   "source": [
    "c = np.array(results[test_names[0]]['confusion'])\n",
    "norm_confusion = (c.T / c.astype(np.float).sum(axis=1)).T\n",
    "norm_confusion = norm_confusion.round(decimals=3)\n",
    "\n",
    "confusion_text = [[str(round(y, 3)) for y in x] for x in norm_confusion]\n",
    "\n",
    "# set up figure \n",
    "confusion_plot = plotly.figure_factory.create_annotated_heatmap(norm_confusion, x=classNames, y=classNames, colorscale='plasma')\n",
    "\n",
    "# add custom xaxis title\n",
    "confusion_plot.add_annotation(dict(font=dict(color=\"black\",size=16),\n",
    "                   x=0.5,\n",
    "                   y=-0.15,\n",
    "                   showarrow=False,\n",
    "                   text=\"Predicted value\",\n",
    "                   xref=\"paper\",\n",
    "                   yref=\"paper\"))\n",
    "\n",
    "# add custom yaxis title\n",
    "confusion_plot.add_annotation(dict(font=dict(color=\"black\",size=16),\n",
    "                   x=-0.2,\n",
    "                   y=0.5,\n",
    "                   showarrow=False,\n",
    "                   text=\"Real value\",\n",
    "                   textangle=-90,\n",
    "                   xref=\"paper\",\n",
    "                   yref=\"paper\"))\n",
    "\n",
    "\n",
    "# adjust margins to make room for yaxis title\n",
    "confusion_plot.update_layout(margin=dict(t=50, l=200))\n",
    "\n",
    "# add colorbar\n",
    "confusion_plot['data'][0]['showscale'] = True\n",
    "confusion_plot.update_layout(yaxis_autorange=\"reversed\")\n",
    "\n",
    "confusion_display = graph_obj.FigureWidget(confusion_plot)\n"
   ]
  },
  {
   "cell_type": "code",
   "execution_count": 23,
   "metadata": {},
   "outputs": [],
   "source": [
    "def SelectTest(change, select, display, testjson):\n",
    "    global test_select\n",
    "    global confusion_display\n",
    "    global output\n",
    "    global results\n",
    "    global confusion_plot\n",
    "    \n",
    "    with confusion_display.batch_update():\n",
    "        \n",
    "        c = np.array(results[test_select.value]['confusion'])\n",
    "        norm_confusion = (c.T / c.astype(np.float).sum(axis=1)).T\n",
    "        confusion_text = [str(round(x, 3)) for x in norm_confusion.flatten()]\n",
    "        confusion_display.data[0].z =  norm_confusion\n",
    "        confusion_display.update_layout(yaxis_autorange=\"reversed\")\n",
    "        \n",
    "        for i in range(len(confusion_text)):\n",
    "            confusion_display.layout.annotations[i].text = confusion_text[i]\n",
    "            \n",
    "def ClearOutput(b):\n",
    "    global test_select\n",
    "    global confusion_display\n",
    "    global output\n",
    "    output.clear_output()"
   ]
  },
  {
   "cell_type": "code",
   "execution_count": 24,
   "metadata": {},
   "outputs": [
    {
     "data": {
      "application/vnd.jupyter.widget-view+json": {
       "model_id": "1de5f671874445b593f2ec962be3a5e1",
       "version_major": 2,
       "version_minor": 0
      },
      "text/plain": [
       "VBox(children=(HBox(children=(Select(description='Test:', options=('model/2021-02-24-10-28-35-cocoseg/model-fp…"
      ]
     },
     "metadata": {},
     "output_type": "display_data"
    }
   ],
   "source": [
    "\n",
    "clear_output.on_click(lambda b: ClearOutput(b))\n",
    "\n",
    "\n",
    "display_results = widgets.HBox([test_select, confusion_display])\n",
    "attach = widgets.VBox([display_results, clear_output, output])\n",
    "\n",
    "test_select.observe (lambda change:SelectTest(change, select=test_select, display=confusion_display, testjson=testjson), names=\"value\")\n",
    "\n",
    "if len(test_names) > 0:\n",
    "    test_select.options = test_names\n",
    "    test_select.value = test_names[0]\n",
    "\n",
    "display(attach)"
   ]
  },
  {
   "cell_type": "code",
   "execution_count": null,
   "metadata": {},
   "outputs": [],
   "source": []
  }
 ],
 "metadata": {
  "kernelspec": {
   "display_name": "Python 3",
   "language": "python",
   "name": "python3"
  },
  "language_info": {
   "codemirror_mode": {
    "name": "ipython",
    "version": 3
   },
   "file_extension": ".py",
   "mimetype": "text/x-python",
   "name": "python",
   "nbconvert_exporter": "python",
   "pygments_lexer": "ipython3",
   "version": "3.6.9-final"
  }
 },
 "nbformat": 4,
 "nbformat_minor": 4
}