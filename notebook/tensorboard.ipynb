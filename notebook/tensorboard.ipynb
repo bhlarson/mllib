{
 "cells": [
  {
   "cell_type": "code",
   "execution_count": 5,
   "metadata": {},
   "outputs": [],
   "source": [
    "import os\n",
    "import shutil\n",
    "from pymlutil.s3 import s3store, Connect\n",
    "import ipywidgets as widgets\n",
    "from tensorboard import notebook\n",
    "from tensorboard import manager"
   ]
  },
  {
   "cell_type": "code",
   "execution_count": 6,
   "metadata": {},
   "outputs": [],
   "source": [
    "output = widgets.Output()\n",
    "\n",
    "clear_output = widgets.Button(\n",
    "    description='Clear Output',\n",
    "    disabled=False,\n",
    "    button_style='', # 'success', 'info', 'warning', 'danger' or ''\n",
    "    tooltip='Clear Output',\n",
    ")\n",
    "\n",
    "def ClearOutput(b):\n",
    "    output.clear_output()\n",
    "clear_output.on_click(lambda b: ClearOutput(b))"
   ]
  },
  {
   "cell_type": "code",
   "execution_count": 7,
   "metadata": {},
   "outputs": [],
   "source": [
    "credentials = '../creds.yaml'\n",
    "s3, _, s3def = Connect(credentials)\n",
    "logdir = '../tb_logs'\n",
    "modelname = 'model/crisplit/'\n",
    "pattern= '*_tb/'\n",
    "bucket = s3def['sets']['model']['bucket']\n",
    "tb_path = s3.ListObjects(bucket=s3def['sets']['model']['bucket'], setname=modelname, pattern=pattern)"
   ]
  },
  {
   "cell_type": "code",
   "execution_count": 8,
   "metadata": {},
   "outputs": [
    {
     "data": {
      "application/vnd.jupyter.widget-view+json": {
       "model_id": "d411f402f2be4117902fa882b8df9027",
       "version_major": 2,
       "version_minor": 0
      },
      "text/plain": [
       "VBox(children=(Select(description='Trainings:', layout=Layout(width='60%'), options=('model/crisplit/crispcoco…"
      ]
     },
     "metadata": {},
     "output_type": "display_data"
    }
   ],
   "source": [
    "tb_select = widgets.Select(\n",
    "    options=tb_path,\n",
    "    value=None,\n",
    "    description='Trainings:',\n",
    "    disabled=False,\n",
    "    rows=25,\n",
    "    layout=widgets.Layout(width=\"60%\"))\n",
    "\n",
    "def TBSelect(change, s3, logdir, bucket, tb_path):\n",
    "    with output:\n",
    "        shutil.rmtree(logdir, ignore_errors=True)\n",
    "        print('bucket:{} src:{} dest:{}'.format(bucket, change.new, logdir))\n",
    "        s3.GetDir(bucket, change.new, logdir)\n",
    "        #%load_ext tensorboard\n",
    "        #%tensorboard --logdir $logdir\n",
    "\n",
    "\n",
    "tb_select.observe (lambda change:TBSelect(change, s3=s3, logdir=logdir, bucket=bucket, tb_path=tb_path), names=\"value\")\n",
    "display(widgets.VBox([tb_select, clear_output, output]))"
   ]
  },
  {
   "cell_type": "code",
   "execution_count": null,
   "metadata": {},
   "outputs": [
    {
     "name": "stdout",
     "output_type": "stream",
     "text": [
      "TensorFlow installation not found - running with reduced feature set.\n",
      "\n",
      "NOTE: Using experimental fast data loading logic. To disable, pass\n",
      "    \"--load_fast=false\" and report issues on GitHub. More details:\n",
      "    https://github.com/tensorflow/tensorboard/issues/4784\n",
      "\n",
      "I0905 07:03:15.444661 140481525638912 plugin.py:346] Monitor runs begin\n",
      "TensorBoard 2.6.0 at http://hiocnn:6006/ (Press CTRL+C to quit)\n"
     ]
    }
   ],
   "source": [
    "#!tensorboard --bind_all --logdir $logdir"
   ]
  },
  {
   "cell_type": "code",
   "execution_count": null,
   "metadata": {},
   "outputs": [],
   "source": []
  }
 ],
 "metadata": {
  "kernelspec": {
   "display_name": "Python 3 (ipykernel)",
   "language": "python",
   "name": "python3"
  },
  "language_info": {
   "codemirror_mode": {
    "name": "ipython",
    "version": 3
   },
   "file_extension": ".py",
   "mimetype": "text/x-python",
   "name": "python",
   "nbconvert_exporter": "python",
   "pygments_lexer": "ipython3",
   "version": "3.8.10"
  },
  "vscode": {
   "interpreter": {
    "hash": "e7370f93d1d0cde622a1f8e1c04877d8463912d04d973331ad4851f04de6915a"
   }
  }
 },
 "nbformat": 4,
 "nbformat_minor": 4
}
