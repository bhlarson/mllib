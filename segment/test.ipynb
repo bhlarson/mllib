{
 "cells": [
  {
   "cell_type": "code",
   "execution_count": 547,
   "metadata": {},
   "outputs": [],
   "source": [
    "import sys, os\n",
    "import sys, os\n",
    "import json\n",
    "import pandas as pd\n",
    "import numpy as np\n",
    "from IPython.display import Markdown, display\n",
    "import ipywidgets as widgets\n",
    "import plotly\n",
    "import plotly.graph_objects as graph_obj\n",
    "import plotly.figure_factory as ff"
   ]
  },
  {
   "cell_type": "code",
   "execution_count": 548,
   "metadata": {},
   "outputs": [],
   "source": [
    "sys.path.append(os.path.join(os.getcwd(),'/app/utils'))\n",
    "from s3 import s3store\n",
    "from jsonutil import WriteDictJson, ReadDictJson"
   ]
  },
  {
   "cell_type": "code",
   "execution_count": 549,
   "metadata": {},
   "outputs": [],
   "source": [
    "output = widgets.Output()\n",
    "clear_output = widgets.Button(description='Clear Output')\n",
    "\n",
    "test_select = widgets.Select(\n",
    "    options=[],\n",
    "    description='Test:',\n",
    "    disabled=False,\n",
    "    #rows=25,\n",
    ")"
   ]
  },
  {
   "cell_type": "code",
   "execution_count": 550,
   "metadata": {},
   "outputs": [
    {
     "data": {
      "text/plain": [
       "{'name': 'mllib-s3',\n",
       " 'type': 'trainer',\n",
       " 'address': 'ipc.larson.myds.me:32000',\n",
       " 'access key': 'access',\n",
       " 'secret key': 'mysecretkey',\n",
       " 'sets': {'dataset': {'bucket': 'mllib',\n",
       "   'prefix': 'data',\n",
       "   'dataset_filter': ''},\n",
       "  'trainingset': {'bucket': 'mllib',\n",
       "   'prefix': 'training',\n",
       "   'dataset_filter': ''},\n",
       "  'model': {'bucket': 'mllib', 'prefix': 'model', 'dataset_filter': 'dl3'},\n",
       "  'test': {'bucket': 'mllib', 'prefix': 'test', 'dataset_filter': ''}}}"
      ]
     },
     "execution_count": 550,
     "metadata": {},
     "output_type": "execute_result"
    }
   ],
   "source": [
    "creds = ReadDictJson('../creds.json')\n",
    "if not creds:\n",
    "    output.append_stdout('Failed to load credentials file {}\\n'.format(args.credentails))\n",
    "\n",
    "s3def = creds['s3'][0]\n",
    "s3 = s3store(s3def['address'], s3def['access key'], s3def['secret key'])\n",
    "validation = s3def['sets']['trainingset']\n",
    "s3def"
   ]
  },
  {
   "cell_type": "code",
   "execution_count": 551,
   "metadata": {},
   "outputs": [],
   "source": [
    "test_obj = '{}/coco/tests.json'.format(validation['prefix'])\n",
    "desc_obj = '{}/coco/description.json'.format(validation['prefix'])"
   ]
  },
  {
   "cell_type": "code",
   "execution_count": 552,
   "metadata": {},
   "outputs": [
    {
     "data": {
      "text/html": [
       "<div>\n",
       "<style scoped>\n",
       "    .dataframe tbody tr th:only-of-type {\n",
       "        vertical-align: middle;\n",
       "    }\n",
       "\n",
       "    .dataframe tbody tr th {\n",
       "        vertical-align: top;\n",
       "    }\n",
       "\n",
       "    .dataframe thead th {\n",
       "        text-align: right;\n",
       "    }\n",
       "</style>\n",
       "<table border=\"1\" class=\"dataframe\">\n",
       "  <thead>\n",
       "    <tr style=\"text-align: right;\">\n",
       "      <th></th>\n",
       "      <th>date</th>\n",
       "      <th>model</th>\n",
       "      <th>accuracy</th>\n",
       "      <th>class_similarity</th>\n",
       "      <th>similarity</th>\n",
       "      <th>confusion</th>\n",
       "      <th>images</th>\n",
       "      <th>image time</th>\n",
       "      <th>batch size</th>\n",
       "      <th>test store</th>\n",
       "      <th>test bucket</th>\n",
       "      <th>test object</th>\n",
       "    </tr>\n",
       "  </thead>\n",
       "  <tbody>\n",
       "    <tr>\n",
       "      <th>0</th>\n",
       "      <td>12/10/2020, 09:19:41</td>\n",
       "      <td>2020-12-03-05-52-45-cocoseg</td>\n",
       "      <td>0.869580</td>\n",
       "      <td>{'0': {'intersection': 0, 'union': 0, 'similar...</td>\n",
       "      <td>0.634320</td>\n",
       "      <td>[[842651, 2005, 1752, 17084], [30039, 53381, 2...</td>\n",
       "      <td>5</td>\n",
       "      <td>1.310252</td>\n",
       "      <td>1</td>\n",
       "      <td>ipc.larson.myds.me:32000</td>\n",
       "      <td>mllib</td>\n",
       "      <td>training/coco/2020-12-03-05-52-45-cocoseg/run....</td>\n",
       "    </tr>\n",
       "    <tr>\n",
       "      <th>1</th>\n",
       "      <td>12/10/2020, 09:32:32</td>\n",
       "      <td>2020-12-03-05-52-45-cocoseg</td>\n",
       "      <td>0.933269</td>\n",
       "      <td>{'0': {'intersection': 0, 'union': 0, 'similar...</td>\n",
       "      <td>0.599355</td>\n",
       "      <td>[[1026475511, 6568840, 787060, 2550103], [2865...</td>\n",
       "      <td>5000</td>\n",
       "      <td>0.082757</td>\n",
       "      <td>1</td>\n",
       "      <td>ipc.larson.myds.me:32000</td>\n",
       "      <td>mllib</td>\n",
       "      <td>training/coco/2020-12-03-05-52-45-cocoseg/run....</td>\n",
       "    </tr>\n",
       "  </tbody>\n",
       "</table>\n",
       "</div>"
      ],
      "text/plain": [
       "                   date                        model  accuracy  \\\n",
       "0  12/10/2020, 09:19:41  2020-12-03-05-52-45-cocoseg  0.869580   \n",
       "1  12/10/2020, 09:32:32  2020-12-03-05-52-45-cocoseg  0.933269   \n",
       "\n",
       "                                    class_similarity  similarity  \\\n",
       "0  {'0': {'intersection': 0, 'union': 0, 'similar...    0.634320   \n",
       "1  {'0': {'intersection': 0, 'union': 0, 'similar...    0.599355   \n",
       "\n",
       "                                           confusion  images  image time  \\\n",
       "0  [[842651, 2005, 1752, 17084], [30039, 53381, 2...       5    1.310252   \n",
       "1  [[1026475511, 6568840, 787060, 2550103], [2865...    5000    0.082757   \n",
       "\n",
       "   batch size                test store test bucket  \\\n",
       "0           1  ipc.larson.myds.me:32000       mllib   \n",
       "1           1  ipc.larson.myds.me:32000       mllib   \n",
       "\n",
       "                                         test object  \n",
       "0  training/coco/2020-12-03-05-52-45-cocoseg/run....  \n",
       "1  training/coco/2020-12-03-05-52-45-cocoseg/run....  "
      ]
     },
     "metadata": {},
     "output_type": "display_data"
    }
   ],
   "source": [
    "testjson = s3.GetDict(validation['bucket'], test_obj)\n",
    "descjson = s3.GetDict(validation['bucket'], desc_obj)\n",
    "\n",
    "tests = pd.DataFrame(testjson)\n",
    "display(tests)"
   ]
  },
  {
   "cell_type": "code",
   "execution_count": 553,
   "metadata": {},
   "outputs": [
    {
     "data": {
      "text/plain": [
       "[{'date': '12/10/2020, 09:19:41',\n",
       "  'model': '2020-12-03-05-52-45-cocoseg',\n",
       "  'accuracy': 0.8695800185203553,\n",
       "  'class_similarity': {'0': {'intersection': 0, 'union': 0, 'similarity': 1.0},\n",
       "   '1': {'intersection': 53381,\n",
       "    'union': 90997,\n",
       "    'similarity': 0.5866237348484016},\n",
       "   '2': {'intersection': 114726,\n",
       "    'union': 192946,\n",
       "    'similarity': 0.5946015983746747},\n",
       "   '3': {'intersection': 82775,\n",
       "    'union': 111570,\n",
       "    'similarity': 0.7419109079501658}},\n",
       "  'similarity': 0.6343204900976707,\n",
       "  'confusion': [[842651, 2005, 1752, 17084],\n",
       "   [30039, 53381, 2614, 2691],\n",
       "   [70012, 50, 114726, 3792],\n",
       "   [5011, 217, 0, 82775]],\n",
       "  'images': 5,\n",
       "  'image time': 1.3102516,\n",
       "  'batch size': 1,\n",
       "  'test store': 'ipc.larson.myds.me:32000',\n",
       "  'test bucket': 'mllib',\n",
       "  'test object': 'training/coco/2020-12-03-05-52-45-cocoseg/run.json'},\n",
       " {'date': '12/10/2020, 09:32:32',\n",
       "  'model': '2020-12-03-05-52-45-cocoseg',\n",
       "  'accuracy': 0.9332689494609833,\n",
       "  'class_similarity': {'0': {'intersection': 0, 'union': 0, 'similarity': 1.0},\n",
       "   '1': {'intersection': 72580710,\n",
       "    'union': 109868170,\n",
       "    'similarity': 0.6606163550371322},\n",
       "   '2': {'intersection': 19848581,\n",
       "    'union': 47095314,\n",
       "    'similarity': 0.42145554014142467},\n",
       "   '3': {'intersection': 30086253,\n",
       "    'union': 47448910,\n",
       "    'similarity': 0.6340767996567255}},\n",
       "  'similarity': 0.5993547729791766,\n",
       "  'confusion': [[1026475511, 6568840, 787060, 2550103],\n",
       "   [28656372, 72580710, 210662, 558049],\n",
       "   [25943399, 279955, 19848581, 19307],\n",
       "   [13215266, 1013582, 6350, 30086253]],\n",
       "  'images': 5000,\n",
       "  'image time': 0.08275680659999973,\n",
       "  'batch size': 1,\n",
       "  'test store': 'ipc.larson.myds.me:32000',\n",
       "  'test bucket': 'mllib',\n",
       "  'test object': 'training/coco/2020-12-03-05-52-45-cocoseg/run.json'}]"
      ]
     },
     "execution_count": 553,
     "metadata": {},
     "output_type": "execute_result"
    }
   ],
   "source": [
    "testjson"
   ]
  },
  {
   "cell_type": "code",
   "execution_count": 554,
   "metadata": {},
   "outputs": [
    {
     "data": {
      "text/plain": [
       "{1: {'id': 1,\n",
       "  'name': 'person',\n",
       "  'trainId': 1,\n",
       "  'category': 'person',\n",
       "  'display': True,\n",
       "  'color': [0, 255, 0]},\n",
       " 2: {'id': 2,\n",
       "  'name': 'bicycle',\n",
       "  'trainId': 2,\n",
       "  'category': 'vehicle',\n",
       "  'display': True,\n",
       "  'color': [255, 0, 0]},\n",
       " 3: {'id': 16,\n",
       "  'name': 'bird',\n",
       "  'trainId': 3,\n",
       "  'category': 'animal',\n",
       "  'display': True,\n",
       "  'color': [0, 0, 255]}}"
      ]
     },
     "execution_count": 554,
     "metadata": {},
     "output_type": "execute_result"
    }
   ],
   "source": [
    "iClasses = {}\n",
    "classNames = [''] * descjson['classes']['classes']\n",
    "for clasdesc in descjson['classes']['objects']:\n",
    "    if clasdesc['trainId'] not in iClasses.keys():\n",
    "        classNames[clasdesc['trainId']] = clasdesc['category']\n",
    "        if not (clasdesc['category'] == 'void'):\n",
    "            iClasses[clasdesc['trainId']] = clasdesc\n",
    "\n",
    "iClasses"
   ]
  },
  {
   "cell_type": "code",
   "execution_count": 555,
   "metadata": {},
   "outputs": [
    {
     "name": "stdout",
     "output_type": "stream",
     "text": [
      "Key 1 person\n",
      "0.5866237348484016\n",
      "Key 2 vehicle\n",
      "0.5946015983746747\n",
      "Key 3 animal\n",
      "0.7419109079501658\n",
      "Key 1 person\n",
      "0.6606163550371322\n",
      "Key 2 vehicle\n",
      "0.42145554014142467\n",
      "Key 3 animal\n",
      "0.6340767996567255\n"
     ]
    }
   ],
   "source": [
    "overview = {}\n",
    "results = {}\n",
    "confusion = {}\n",
    "test_names = []\n",
    "    \n",
    "for test in testjson:\n",
    "    name = '{} {}'.format(test['model'], test['date'])\n",
    "    test_names.append(name)\n",
    "    \n",
    "    test_overview = {'accuracy':test['accuracy'],'similarity':test['similarity']}\n",
    "    overview[test['model']]=test_overview\n",
    "    \n",
    "    similarity = {}\n",
    "    for key in iClasses:\n",
    "        res = test['class_similarity'][str(key)]\n",
    "        if res:\n",
    "            print('Key {} {}'.format(key, iClasses[key]['category']))\n",
    "            print('{}'.format(test['class_similarity'][str(key)]['similarity']))\n",
    "            similarity[iClasses[key]['category']] = test['class_similarity'][str(key)]['similarity']\n",
    "\n",
    "    results[name] = {'similarity':similarity, 'confusion':test['confusion']}"
   ]
  },
  {
   "cell_type": "code",
   "execution_count": 556,
   "metadata": {},
   "outputs": [
    {
     "data": {
      "text/plain": [
       "{'2020-12-03-05-52-45-cocoseg 12/10/2020, 09:19:41': {'similarity': {'person': 0.5866237348484016,\n",
       "   'vehicle': 0.5946015983746747,\n",
       "   'animal': 0.7419109079501658},\n",
       "  'confusion': [[842651, 2005, 1752, 17084],\n",
       "   [30039, 53381, 2614, 2691],\n",
       "   [70012, 50, 114726, 3792],\n",
       "   [5011, 217, 0, 82775]]},\n",
       " '2020-12-03-05-52-45-cocoseg 12/10/2020, 09:32:32': {'similarity': {'person': 0.6606163550371322,\n",
       "   'vehicle': 0.42145554014142467,\n",
       "   'animal': 0.6340767996567255},\n",
       "  'confusion': [[1026475511, 6568840, 787060, 2550103],\n",
       "   [28656372, 72580710, 210662, 558049],\n",
       "   [25943399, 279955, 19848581, 19307],\n",
       "   [13215266, 1013582, 6350, 30086253]]}}"
      ]
     },
     "execution_count": 556,
     "metadata": {},
     "output_type": "execute_result"
    }
   ],
   "source": [
    "results"
   ]
  },
  {
   "cell_type": "code",
   "execution_count": 557,
   "metadata": {},
   "outputs": [
    {
     "data": {
      "text/html": [
       "<div>\n",
       "<style scoped>\n",
       "    .dataframe tbody tr th:only-of-type {\n",
       "        vertical-align: middle;\n",
       "    }\n",
       "\n",
       "    .dataframe tbody tr th {\n",
       "        vertical-align: top;\n",
       "    }\n",
       "\n",
       "    .dataframe thead th {\n",
       "        text-align: right;\n",
       "    }\n",
       "</style>\n",
       "<table border=\"1\" class=\"dataframe\">\n",
       "  <thead>\n",
       "    <tr style=\"text-align: right;\">\n",
       "      <th></th>\n",
       "      <th>accuracy</th>\n",
       "      <th>similarity</th>\n",
       "    </tr>\n",
       "  </thead>\n",
       "  <tbody>\n",
       "    <tr>\n",
       "      <th>2020-12-03-05-52-45-cocoseg</th>\n",
       "      <td>0.933269</td>\n",
       "      <td>0.599355</td>\n",
       "    </tr>\n",
       "  </tbody>\n",
       "</table>\n",
       "</div>"
      ],
      "text/plain": [
       "                             accuracy  similarity\n",
       "2020-12-03-05-52-45-cocoseg  0.933269    0.599355"
      ]
     },
     "metadata": {},
     "output_type": "display_data"
    }
   ],
   "source": [
    "display(pd.DataFrame(overview).T)"
   ]
  },
  {
   "cell_type": "code",
   "execution_count": 558,
   "metadata": {},
   "outputs": [],
   "source": [
    "c = np.array(results[test_names[0]]['confusion'])\n",
    "norm_confusion = (c.T / c.astype(np.float).sum(axis=1)).T\n",
    "norm_confusion = norm_confusion.round(decimals=3)\n",
    "\n",
    "    \n",
    "output.append_stdout('{}\\n'.format(norm_confusion))\n",
    "confusion_text = [[str(round(y, 3)) for y in x] for x in norm_confusion]\n",
    "\n",
    "# set up figure \n",
    "confusion_plot = plotly.figure_factory.create_annotated_heatmap(norm_confusion, x=classNames, y=classNames, colorscale='plasma')\n",
    "\n",
    "# add custom xaxis title\n",
    "confusion_plot.add_annotation(dict(font=dict(color=\"black\",size=16),\n",
    "                   x=0.5,\n",
    "                   y=-0.15,\n",
    "                   showarrow=False,\n",
    "                   text=\"Predicted value\",\n",
    "                   xref=\"paper\",\n",
    "                   yref=\"paper\"))\n",
    "\n",
    "# add custom yaxis title\n",
    "confusion_plot.add_annotation(dict(font=dict(color=\"black\",size=16),\n",
    "                   x=-0.2,\n",
    "                   y=0.5,\n",
    "                   showarrow=False,\n",
    "                   text=\"Real value\",\n",
    "                   textangle=-90,\n",
    "                   xref=\"paper\",\n",
    "                   yref=\"paper\"))\n",
    "\n",
    "\n",
    "# adjust margins to make room for yaxis title\n",
    "confusion_plot.update_layout(margin=dict(t=50, l=200))\n",
    "\n",
    "# add colorbar\n",
    "confusion_plot['data'][0]['showscale'] = True\n",
    "confusion_plot.update_layout(yaxis_autorange=\"reversed\")\n",
    "\n",
    "confusion_display = graph_obj.FigureWidget(confusion_plot)\n"
   ]
  },
  {
   "cell_type": "code",
   "execution_count": 559,
   "metadata": {},
   "outputs": [],
   "source": [
    "def SelectTest(change, select, display, testjson):\n",
    "    global test_select\n",
    "    global confusion_display\n",
    "    global output\n",
    "    global results\n",
    "    global confusion_plot\n",
    "    \n",
    "    with confusion_display.batch_update():\n",
    "        \n",
    "        c = np.array(results[test_select.value]['confusion'])\n",
    "        norm_confusion = (c.T / c.astype(np.float).sum(axis=1)).T\n",
    "        confusion_text = [str(round(x, 3)) for x in norm_confusion.flatten()]\n",
    "        confusion_display.data[0].z =  norm_confusion\n",
    "        confusion_display.update_layout(yaxis_autorange=\"reversed\")\n",
    "        \n",
    "        for i in range(len(confusion_text)):\n",
    "            confusion_display.layout.annotations[i].text = confusion_text[i]"
   ]
  },
  {
   "cell_type": "code",
   "execution_count": 560,
   "metadata": {},
   "outputs": [],
   "source": [
    "def ClearOutput(b):\n",
    "    global test_select\n",
    "    global confusion_display\n",
    "    global output\n",
    "    output.clear_output()"
   ]
  },
  {
   "cell_type": "code",
   "execution_count": 561,
   "metadata": {},
   "outputs": [
    {
     "data": {
      "application/vnd.jupyter.widget-view+json": {
       "model_id": "ef111dc72d1a4d32abc64a12ae90d947",
       "version_major": 2,
       "version_minor": 0
      },
      "text/plain": [
       "VBox(children=(HBox(children=(Select(description='Test:', options=('2020-12-03-05-52-45-cocoseg 12/10/2020, 09…"
      ]
     },
     "metadata": {},
     "output_type": "display_data"
    }
   ],
   "source": [
    "\n",
    "clear_output.on_click(lambda b: ClearOutput(b))\n",
    "\n",
    "\n",
    "display_results = widgets.HBox([test_select, confusion_display])\n",
    "attach = widgets.VBox([display_results, clear_output, output])\n",
    "\n",
    "test_select.observe (lambda change:SelectTest(change, select=test_select, display=confusion_display, testjson=testjson), names=\"value\")\n",
    "\n",
    "if len(test_names) > 0:\n",
    "    test_select.options = test_names\n",
    "    test_select.value = test_names[0]\n",
    "\n",
    "display(attach)"
   ]
  },
  {
   "cell_type": "code",
   "execution_count": null,
   "metadata": {},
   "outputs": [],
   "source": []
  }
 ],
 "metadata": {
  "kernelspec": {
   "display_name": "Python 3",
   "language": "python",
   "name": "python3"
  },
  "language_info": {
   "codemirror_mode": {
    "name": "ipython",
    "version": 3
   },
   "file_extension": ".py",
   "mimetype": "text/x-python",
   "name": "python",
   "nbconvert_exporter": "python",
   "pygments_lexer": "ipython3",
   "version": "3.6.9"
  }
 },
 "nbformat": 4,
 "nbformat_minor": 4
}
