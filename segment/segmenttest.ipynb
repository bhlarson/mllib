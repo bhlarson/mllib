{
 "cells": [
  {
   "cell_type": "markdown",
   "metadata": {},
   "source": [
    "# Segmentation Training Review\n",
    "\n",
    "Image segmentation converts an input image to a mask where each pixel value represents an object class at that pixel.  This notebook provides summary informaiton for image segmentation algorithms.  .  \n"
   ]
  },
  {
   "cell_type": "code",
   "execution_count": 96,
   "metadata": {
    "tags": []
   },
   "outputs": [],
   "source": [
    "import sys, os\n",
    "import json\n",
    "import argparse\n",
    "import pandas as pd\n",
    "import numpy as np\n",
    "from IPython.display import Markdown, display\n",
    "import ipywidgets as widgets\n",
    "import plotly\n",
    "import plotly.graph_objects as graph_obj\n",
    "import plotly.figure_factory as ff\n",
    "\n",
    "sys.path.insert(0, os.path.abspath('.'))\n",
    "sys.path.insert(0, os.path.abspath('..'))\n",
    "from utils.s3 import s3store, Connect\n",
    "from utils.jsonutil import WriteDictJson, ReadDictJson\n",
    "from segment.segmenttest import PrepareResults, PlotConfusion, UpdateConfusion, ClearOutput, PlotModels, UpdateModel"
   ]
  },
  {
   "cell_type": "code",
   "execution_count": 97,
   "metadata": {},
   "outputs": [],
   "source": [
    "output = widgets.Output()"
   ]
  },
  {
   "cell_type": "code",
   "execution_count": 98,
   "metadata": {},
   "outputs": [],
   "source": [
    "def parse_arguments():\n",
    "    parser = argparse.ArgumentParser(description='Process arguments')\n",
    "    parser.add_argument('-credentails', type=str, default='../creds.json', help='Credentials file.')\n",
    "\n",
    "    parser.add_argument('-model_type', type=str,  default='segmentation')\n",
    "    parser.add_argument('-test_results', type=str, default='test_results.json')   \n",
    "\n",
    "    args = parser.parse_args(\"\")\n",
    "    return args"
   ]
  },
  {
   "cell_type": "code",
   "execution_count": 99,
   "metadata": {},
   "outputs": [],
   "source": [
    "with output:\n",
    "    args = parse_arguments()\n",
    "    print('parse_arguments()={}'.format(args))"
   ]
  },
  {
   "cell_type": "code",
   "execution_count": 100,
   "metadata": {},
   "outputs": [],
   "source": [
    "with output:\n",
    "    s3, creds, s3def = Connect(args.credentails)\n",
    "    print('Connect()={}'.format(s3def))"
   ]
  },
  {
   "cell_type": "code",
   "execution_count": 101,
   "metadata": {},
   "outputs": [],
   "source": [
    "test_path = '{}/{}/{}'.format(s3def['sets']['test']['prefix'], args.model_type, args.test_results)\n",
    "test_data = s3.GetDict(s3def['sets']['test']['bucket'], test_path)"
   ]
  },
  {
   "cell_type": "code",
   "execution_count": 102,
   "metadata": {},
   "outputs": [],
   "source": [
    "test_names, overview, results, models  = PrepareResults(test_data)"
   ]
  },
  {
   "cell_type": "code",
   "execution_count": 103,
   "metadata": {},
   "outputs": [],
   "source": [
    "confusion_display = graph_obj.FigureWidget()\n",
    "if len(test_data) > 0:\n",
    "    plot = PlotConfusion(test_data[0]['objects'], test_data[0]['results']['confusion'])\n",
    "    confusion_display = graph_obj.FigureWidget(plot)"
   ]
  },
  {
   "cell_type": "code",
   "execution_count": 104,
   "metadata": {},
   "outputs": [],
   "source": [
    "test_names, overview, results, model_dict = PrepareResults(test_data)\n",
    "modelsplot = PlotModels(list(model_dict.values())[0])\n",
    "modelsplot.update_layout(autosize=False, width=800, height=600)\n",
    "models_display = graph_obj.FigureWidget(modelsplot)"
   ]
  },
  {
   "cell_type": "code",
   "execution_count": 105,
   "metadata": {},
   "outputs": [],
   "source": [
    "models_select = widgets.Select(\n",
    "    options=model_dict.keys(),\n",
    "    description='Model Class:',\n",
    "    disabled=False,\n",
    "    rows=10,\n",
    "    layout=widgets.Layout(width=\"30%\"))"
   ]
  },
  {
   "cell_type": "code",
   "execution_count": 106,
   "metadata": {},
   "outputs": [],
   "source": [
    "def ModelsSelect(change, plot, results):\n",
    "    UpdateModel(plot, model_dict[change.new])\n",
    "\n",
    "models_select.observe (lambda change:ModelsSelect(change, models_display, model_dict), names=\"value\")"
   ]
  },
  {
   "cell_type": "code",
   "execution_count": 107,
   "metadata": {
    "tags": []
   },
   "outputs": [],
   "source": [
    "test_select = widgets.Select(\n",
    "    options=test_names,\n",
    "    description='Test:',\n",
    "    disabled=False,\n",
    "    rows=25,\n",
    "    layout=widgets.Layout(width=\"40%\"))"
   ]
  },
  {
   "cell_type": "code",
   "execution_count": 108,
   "metadata": {},
   "outputs": [],
   "source": [
    "def Confusion(change, confusion, results):\n",
    "    UpdateConfusion(confusion, results[change.new]['confusion'])\n",
    "\n",
    "test_select.observe (lambda change:Confusion(change, confusion_display, results), names=\"value\")"
   ]
  },
  {
   "cell_type": "code",
   "execution_count": 109,
   "metadata": {},
   "outputs": [],
   "source": [
    "clear_output = widgets.Button(description='Clear Output')\n",
    "clear_output.on_click(lambda b: ClearOutput(b, output=output))"
   ]
  },
  {
   "cell_type": "markdown",
   "metadata": {},
   "source": [
    "## Segmentation Summary Table\n",
    "This table displays the validation dataset test results for a specific model.  \n",
    "- \"test images\" is the number of images in the validation data set\n",
    "- \"mean IoU\" is the average of the per-class intersection over union defined in [\"The PASCAL Visual Object Classes (VOC) Challenge\" equation 4](https://homepages.inf.ed.ac.uk/ckiw/postscript/ijcv_voc09.pdf) \n",
    "- \"inference time\" is the average compute time per image for the CNN execution and argmax opration to produce a segmentation image."
   ]
  },
  {
   "cell_type": "code",
   "execution_count": 110,
   "metadata": {
    "tags": []
   },
   "outputs": [
    {
     "data": {
      "text/html": [
       "<div>\n",
       "<style scoped>\n",
       "    .dataframe tbody tr th:only-of-type {\n",
       "        vertical-align: middle;\n",
       "    }\n",
       "\n",
       "    .dataframe tbody tr th {\n",
       "        vertical-align: top;\n",
       "    }\n",
       "\n",
       "    .dataframe thead th {\n",
       "        text-align: right;\n",
       "    }\n",
       "</style>\n",
       "<table border=\"1\" class=\"dataframe\">\n",
       "  <thead>\n",
       "    <tr style=\"text-align: right;\">\n",
       "      <th></th>\n",
       "      <th>model type</th>\n",
       "      <th>model class</th>\n",
       "      <th>test images</th>\n",
       "      <th>mean IoU</th>\n",
       "      <th>inference time</th>\n",
       "      <th>description</th>\n",
       "    </tr>\n",
       "  </thead>\n",
       "  <tbody>\n",
       "    <tr>\n",
       "      <th>1: segment_deeplabv3_512x442_20211030_01</th>\n",
       "      <td>segmentation</td>\n",
       "      <td>deeplabv3</td>\n",
       "      <td>5000</td>\n",
       "      <td>0.709993</td>\n",
       "      <td>0.006181</td>\n",
       "      <td></td>\n",
       "    </tr>\n",
       "    <tr>\n",
       "      <th>2: segment_deeplabv3_512x442_20211107_00</th>\n",
       "      <td>segmentation</td>\n",
       "      <td>deeplabv3</td>\n",
       "      <td>5000</td>\n",
       "      <td>0.790635</td>\n",
       "      <td>0.006192</td>\n",
       "      <td></td>\n",
       "    </tr>\n",
       "    <tr>\n",
       "      <th>3: segment_deeplabv3_512x442_20211101_00</th>\n",
       "      <td>segmentation</td>\n",
       "      <td>deeplabv3</td>\n",
       "      <td>5000</td>\n",
       "      <td>0.782202</td>\n",
       "      <td>0.006293</td>\n",
       "      <td></td>\n",
       "    </tr>\n",
       "    <tr>\n",
       "      <th>4: segment_deeplabv3_512x442_20211112_00</th>\n",
       "      <td>segmentation</td>\n",
       "      <td>deeplabv3</td>\n",
       "      <td>5000</td>\n",
       "      <td>0.803974</td>\n",
       "      <td>0.006058</td>\n",
       "      <td></td>\n",
       "    </tr>\n",
       "    <tr>\n",
       "      <th>5: segment_deeplabv3_512x442_20211112_00</th>\n",
       "      <td>segmentation</td>\n",
       "      <td>deeplabv3</td>\n",
       "      <td>5000</td>\n",
       "      <td>0.809978</td>\n",
       "      <td>0.005556</td>\n",
       "      <td></td>\n",
       "    </tr>\n",
       "    <tr>\n",
       "      <th>6: segment_deeplabv3_512x442_20211112_00</th>\n",
       "      <td>segmentation</td>\n",
       "      <td>deeplabv3</td>\n",
       "      <td>144</td>\n",
       "      <td>0.767238</td>\n",
       "      <td>0.0065</td>\n",
       "      <td></td>\n",
       "    </tr>\n",
       "    <tr>\n",
       "      <th>7: segment_nas_512x442_20211114_01</th>\n",
       "      <td>segmentation</td>\n",
       "      <td>segmin</td>\n",
       "      <td>5000</td>\n",
       "      <td>0.73669</td>\n",
       "      <td>0.006011</td>\n",
       "      <td>Neural architecture search segmentation</td>\n",
       "    </tr>\n",
       "    <tr>\n",
       "      <th>8: segment_nas_512x442_20211101_00</th>\n",
       "      <td>segmentation</td>\n",
       "      <td>segmin</td>\n",
       "      <td>5000</td>\n",
       "      <td>0.727587</td>\n",
       "      <td>0.00609</td>\n",
       "      <td>Neural architecture search segmentation</td>\n",
       "    </tr>\n",
       "    <tr>\n",
       "      <th>9: segment_nas_512x442_20211029_00</th>\n",
       "      <td>segmentation</td>\n",
       "      <td>segmin</td>\n",
       "      <td>5000</td>\n",
       "      <td>0.700374</td>\n",
       "      <td>0.006111</td>\n",
       "      <td>Neural architecture search segmentation</td>\n",
       "    </tr>\n",
       "    <tr>\n",
       "      <th>10: segment_nas_512x442_20211028</th>\n",
       "      <td>segmentation</td>\n",
       "      <td>segmin</td>\n",
       "      <td>5000</td>\n",
       "      <td>0.624807</td>\n",
       "      <td>0.006104</td>\n",
       "      <td>Neural architecture search segmentation</td>\n",
       "    </tr>\n",
       "    <tr>\n",
       "      <th>11: segment_nas_512x442_20211027</th>\n",
       "      <td>segmentation</td>\n",
       "      <td>segmin</td>\n",
       "      <td>5000</td>\n",
       "      <td>0.642864</td>\n",
       "      <td>0.006028</td>\n",
       "      <td>Neural architecture search segmentation</td>\n",
       "    </tr>\n",
       "    <tr>\n",
       "      <th>12: segment_nas_512x442_20211115_00</th>\n",
       "      <td>segmentation</td>\n",
       "      <td>segmin</td>\n",
       "      <td>5000</td>\n",
       "      <td>0.752387</td>\n",
       "      <td>0.006612</td>\n",
       "      <td>Neural architecture search segmentation</td>\n",
       "    </tr>\n",
       "    <tr>\n",
       "      <th>13: segment_nas_512x442_20211115_00</th>\n",
       "      <td>segmentation</td>\n",
       "      <td>segmin</td>\n",
       "      <td>5000</td>\n",
       "      <td>0.752975</td>\n",
       "      <td>0.006471</td>\n",
       "      <td>NAS segmentation</td>\n",
       "    </tr>\n",
       "    <tr>\n",
       "      <th>14: segment_nas_512x442_20211117_00</th>\n",
       "      <td>segmentation</td>\n",
       "      <td>segmin</td>\n",
       "      <td>5000</td>\n",
       "      <td>0.736511</td>\n",
       "      <td>0.008297</td>\n",
       "      <td>NAS segmentation</td>\n",
       "    </tr>\n",
       "  </tbody>\n",
       "</table>\n",
       "</div>"
      ],
      "text/plain": [
       "                                            model type model class  \\\n",
       "1: segment_deeplabv3_512x442_20211030_01  segmentation   deeplabv3   \n",
       "2: segment_deeplabv3_512x442_20211107_00  segmentation   deeplabv3   \n",
       "3: segment_deeplabv3_512x442_20211101_00  segmentation   deeplabv3   \n",
       "4: segment_deeplabv3_512x442_20211112_00  segmentation   deeplabv3   \n",
       "5: segment_deeplabv3_512x442_20211112_00  segmentation   deeplabv3   \n",
       "6: segment_deeplabv3_512x442_20211112_00  segmentation   deeplabv3   \n",
       "7: segment_nas_512x442_20211114_01        segmentation      segmin   \n",
       "8: segment_nas_512x442_20211101_00        segmentation      segmin   \n",
       "9: segment_nas_512x442_20211029_00        segmentation      segmin   \n",
       "10: segment_nas_512x442_20211028          segmentation      segmin   \n",
       "11: segment_nas_512x442_20211027          segmentation      segmin   \n",
       "12: segment_nas_512x442_20211115_00       segmentation      segmin   \n",
       "13: segment_nas_512x442_20211115_00       segmentation      segmin   \n",
       "14: segment_nas_512x442_20211117_00       segmentation      segmin   \n",
       "\n",
       "                                         test images  mean IoU inference time  \\\n",
       "1: segment_deeplabv3_512x442_20211030_01        5000  0.709993       0.006181   \n",
       "2: segment_deeplabv3_512x442_20211107_00        5000  0.790635       0.006192   \n",
       "3: segment_deeplabv3_512x442_20211101_00        5000  0.782202       0.006293   \n",
       "4: segment_deeplabv3_512x442_20211112_00        5000  0.803974       0.006058   \n",
       "5: segment_deeplabv3_512x442_20211112_00        5000  0.809978       0.005556   \n",
       "6: segment_deeplabv3_512x442_20211112_00         144  0.767238         0.0065   \n",
       "7: segment_nas_512x442_20211114_01              5000   0.73669       0.006011   \n",
       "8: segment_nas_512x442_20211101_00              5000  0.727587        0.00609   \n",
       "9: segment_nas_512x442_20211029_00              5000  0.700374       0.006111   \n",
       "10: segment_nas_512x442_20211028                5000  0.624807       0.006104   \n",
       "11: segment_nas_512x442_20211027                5000  0.642864       0.006028   \n",
       "12: segment_nas_512x442_20211115_00             5000  0.752387       0.006612   \n",
       "13: segment_nas_512x442_20211115_00             5000  0.752975       0.006471   \n",
       "14: segment_nas_512x442_20211117_00             5000  0.736511       0.008297   \n",
       "\n",
       "                                                                      description  \n",
       "1: segment_deeplabv3_512x442_20211030_01                                           \n",
       "2: segment_deeplabv3_512x442_20211107_00                                           \n",
       "3: segment_deeplabv3_512x442_20211101_00                                           \n",
       "4: segment_deeplabv3_512x442_20211112_00                                           \n",
       "5: segment_deeplabv3_512x442_20211112_00                                           \n",
       "6: segment_deeplabv3_512x442_20211112_00                                           \n",
       "7: segment_nas_512x442_20211114_01        Neural architecture search segmentation  \n",
       "8: segment_nas_512x442_20211101_00        Neural architecture search segmentation  \n",
       "9: segment_nas_512x442_20211029_00        Neural architecture search segmentation  \n",
       "10: segment_nas_512x442_20211028          Neural architecture search segmentation  \n",
       "11: segment_nas_512x442_20211027          Neural architecture search segmentation  \n",
       "12: segment_nas_512x442_20211115_00       Neural architecture search segmentation  \n",
       "13: segment_nas_512x442_20211115_00                              NAS segmentation  \n",
       "14: segment_nas_512x442_20211117_00                              NAS segmentation  "
      ]
     },
     "metadata": {},
     "output_type": "display_data"
    }
   ],
   "source": [
    "display(pd.DataFrame(overview).T)"
   ]
  },
  {
   "cell_type": "code",
   "execution_count": 111,
   "metadata": {},
   "outputs": [],
   "source": [
    "## Model Confusion"
   ]
  },
  {
   "cell_type": "code",
   "execution_count": 112,
   "metadata": {
    "tags": []
   },
   "outputs": [
    {
     "data": {
      "application/vnd.jupyter.widget-view+json": {
       "model_id": "9567d5767d664f088a29fd7a62f5060c",
       "version_major": 2,
       "version_minor": 0
      },
      "text/plain": [
       "HBox(children=(Select(description='Test:', layout=Layout(width='40%'), options=('1: segment_deeplabv3_512x442_…"
      ]
     },
     "metadata": {},
     "output_type": "display_data"
    }
   ],
   "source": [
    "display(widgets.HBox([test_select, confusion_display]))\n",
    "\n",
    "\n",
    "# Initialize widgits after callbacks are defined\n",
    "if len(test_names) > 0:\n",
    "    test_select.options = test_names\n",
    "    test_select.value = test_names[0]"
   ]
  },
  {
   "cell_type": "markdown",
   "metadata": {},
   "source": [
    "## Segmentation Models Plot\n",
    "The \"Segmentaiton Models Plot\" plots the per class and mean IoU through the training sequence of a sepcific model type and class.  Comparing these plot, I evalute the potential improvement of a specific type of model.  For example, if the IoU continue to improve with training, I'll continue to train the model.  If the per-class IoU converges with additonal training, it may not be neccessary to manipulate the class balance.  Does one model convergence more quickly or to a higher value than another?"
   ]
  },
  {
   "cell_type": "code",
   "execution_count": 113,
   "metadata": {},
   "outputs": [
    {
     "data": {
      "application/vnd.jupyter.widget-view+json": {
       "model_id": "4d29fdc198664bbbb771f6e95f1794c5",
       "version_major": 2,
       "version_minor": 0
      },
      "text/plain": [
       "HBox(children=(Select(description='Model Class:', layout=Layout(width='30%'), options=('segmentation deeplabv3…"
      ]
     },
     "metadata": {},
     "output_type": "display_data"
    }
   ],
   "source": [
    "display(widgets.HBox([models_select, models_display]))"
   ]
  },
  {
   "cell_type": "markdown",
   "metadata": {},
   "source": [
    "## Runtime Output Log"
   ]
  },
  {
   "cell_type": "code",
   "execution_count": 114,
   "metadata": {},
   "outputs": [
    {
     "data": {
      "application/vnd.jupyter.widget-view+json": {
       "model_id": "e939c49f8a714396a2d3961dfec4abd1",
       "version_major": 2,
       "version_minor": 0
      },
      "text/plain": [
       "VBox(children=(Button(description='Clear Output', style=ButtonStyle()), Output()))"
      ]
     },
     "metadata": {},
     "output_type": "display_data"
    }
   ],
   "source": [
    "display(widgets.VBox([clear_output, output]))"
   ]
  }
 ],
 "metadata": {
  "interpreter": {
   "hash": "31f2aee4e71d21fbe5cf8b01ff0e069b9275f58929596ceb00d14d90e3e16cd6"
  },
  "kernelspec": {
   "display_name": "Python 3 (ipykernel)",
   "language": "python",
   "name": "python3"
  },
  "language_info": {
   "codemirror_mode": {
    "name": "ipython",
    "version": 3
   },
   "file_extension": ".py",
   "mimetype": "text/x-python",
   "name": "python",
   "nbconvert_exporter": "python",
   "pygments_lexer": "ipython3",
   "version": "3.8.10"
  }
 },
 "nbformat": 4,
 "nbformat_minor": 4
}
